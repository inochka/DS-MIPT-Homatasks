{
 "cells": [
  {
   "cell_type": "markdown",
   "metadata": {},
   "source": [
    "# <a href=\"https://mipt-stats.gitlab.io/courses/ad_mipt.html\">Phystech@DataScience</a>\n",
    "## Домашнее задание 4\n",
    "\n",
    "**Правила, <font color=\"red\">прочитайте внимательно</font>:**\n",
    "\n",
    "* Выполненную работу нужно отправить телеграм-боту `@miptstats_pds_bot`. Для начала работы с ботом каждый раз отправляйте `/start`. **Работы, присланные иным способом, не принимаются.**\n",
    "* Дедлайн см. в боте. После дедлайна работы не принимаются кроме случаев наличия уважительной причины.\n",
    "* Прислать нужно ноутбук в формате `ipynb`.\n",
    "* Выполнять задание необходимо полностью самостоятельно. **При обнаружении списывания все участники списывания будут сдавать устный зачет.**\n",
    "* Решения, размещенные на каких-либо интернет-ресурсах, не принимаются. Кроме того, публикация решения в открытом доступе может быть приравнена к предоставлении возможности списать.\n",
    "* Для выполнения задания используйте этот ноутбук в качестве основы, ничего не удаляя из него. Можно добавлять необходимое количество ячеек.\n",
    "* Комментарии к решению пишите в markdown-ячейках.\n",
    "* Выполнение задания (ход решения, выводы и пр.) должно быть осуществлено на русском языке.\n",
    "* Если код будет не понятен проверяющему, оценка может быть снижена.\n",
    "* Никакой код из данного задания при проверке запускаться не будет. *Если код студента не выполнен, недописан и т.д., то он не оценивается.*\n",
    "* **Код из рассказанных на занятиях ноутбуков можно использовать без ограничений.**\n",
    "\n",
    "**Правила оформления теоретических задач:**\n",
    "\n",
    "* Решения необходимо прислать одним из следующих способов:\n",
    "  * фотографией в правильной ориентации, где все четко видно, а почерк разборчив,\n",
    "    * отправив ее как файл боту вместе с ноутбуком *или*\n",
    "    * вставив ее в ноутбук посредством `Edit -> Insert Image` (<font color=\"red\">фото, вставленные ссылкой, не принимаются</font>);\n",
    "  * в виде $LaTeX$ в markdown-ячейках.\n",
    "* Решения не проверяются, если какое-то требование не выполнено. Особенно внимательно все проверьте в случае выбора второго пункта (вставки фото в ноутбук). <font color=\"red\"><b>Неправильно вставленные фотографии могут не передаться при отправке.</b></font> Для проверки попробуйте переместить `ipynb` в другую папку и открыть его там.\n",
    "* В решениях поясняйте, чем вы пользуетесь, хотя бы кратко. Например, если пользуетесь независимостью, то достаточно подписи вида \"*X и Y незав.*\"\n",
    "* Решение, в котором есть только ответ, и отсутствуют вычисления, оценивается в 0 баллов.\n",
    "\n",
    "**Баллы за задание:**\n",
    "\n",
    "<b><font color=\"blue\">Легкая часть</font></b> (достаточно на \"хор\"):\n",
    "* Задача 1 &mdash; 20 баллов\n",
    "* Задача 2 &mdash; 15 баллов\n",
    "* Задача 3 &mdash; 15 баллов\n",
    "\n",
    "<b><font color=\"orange\">Сложная часть</font></b> (необходимо на \"отл\"):\n",
    "* Задача 4 &mdash; 20 баллов\n",
    "* Задача 5 &mdash; 30 баллов\n",
    "\n",
    "\n",
    "\n",
    "\n",
    "\n",
    "-----"
   ]
  },
  {
   "cell_type": "code",
   "execution_count": 2,
   "metadata": {},
   "outputs": [],
   "source": [
    "import numpy as np\n",
    "import scipy.stats as sps\n",
    "import matplotlib.pyplot as plt\n",
    "import pandas as pd\n",
    "import seaborn as sns\n",
    "sns.set(font_scale=1.3, palette='Set2')\n",
    "\n",
    "red = '#FF3300'\n",
    "blue = '#0099CC'\n",
    "green = '#00CC66'\n",
    "\n",
    "%matplotlib inline"
   ]
  },
  {
   "cell_type": "markdown",
   "metadata": {},
   "source": [
    "### <b><font color=\"blue\">Легкая часть</font></b> \n",
    "\n",
    "\n",
    "## Задача 1 на гистограммы и  выборочные статистики.\n",
    "\n",
    "**1.** Загрузите с помощью `pandas` из файла `airquality.csv` данные о качестве воздуха в Нью-Йорке с мая по сентябрь 1973 года по дням. Данные содержат измерения нескольких величин, описания которых можно прочитать [по ссылке](https://www.rdocumentation.org/packages/datasets/versions/3.5.1/topics/airquality)."
   ]
  },
  {
   "cell_type": "code",
   "execution_count": 16,
   "metadata": {},
   "outputs": [
    {
     "data": {
      "text/html": [
       "<div>\n",
       "<style scoped>\n",
       "    .dataframe tbody tr th:only-of-type {\n",
       "        vertical-align: middle;\n",
       "    }\n",
       "\n",
       "    .dataframe tbody tr th {\n",
       "        vertical-align: top;\n",
       "    }\n",
       "\n",
       "    .dataframe thead th {\n",
       "        text-align: right;\n",
       "    }\n",
       "</style>\n",
       "<table border=\"1\" class=\"dataframe\">\n",
       "  <thead>\n",
       "    <tr style=\"text-align: right;\">\n",
       "      <th></th>\n",
       "      <th>Unnamed: 0</th>\n",
       "      <th>Ozone</th>\n",
       "      <th>Solar.R</th>\n",
       "      <th>Wind</th>\n",
       "      <th>Temp</th>\n",
       "      <th>Month</th>\n",
       "      <th>Day</th>\n",
       "    </tr>\n",
       "  </thead>\n",
       "  <tbody>\n",
       "    <tr>\n",
       "      <th>0</th>\n",
       "      <td>1</td>\n",
       "      <td>41.0</td>\n",
       "      <td>190.0</td>\n",
       "      <td>7.4</td>\n",
       "      <td>67</td>\n",
       "      <td>5</td>\n",
       "      <td>1</td>\n",
       "    </tr>\n",
       "    <tr>\n",
       "      <th>1</th>\n",
       "      <td>2</td>\n",
       "      <td>36.0</td>\n",
       "      <td>118.0</td>\n",
       "      <td>8.0</td>\n",
       "      <td>72</td>\n",
       "      <td>5</td>\n",
       "      <td>2</td>\n",
       "    </tr>\n",
       "    <tr>\n",
       "      <th>2</th>\n",
       "      <td>3</td>\n",
       "      <td>12.0</td>\n",
       "      <td>149.0</td>\n",
       "      <td>12.6</td>\n",
       "      <td>74</td>\n",
       "      <td>5</td>\n",
       "      <td>3</td>\n",
       "    </tr>\n",
       "    <tr>\n",
       "      <th>3</th>\n",
       "      <td>4</td>\n",
       "      <td>18.0</td>\n",
       "      <td>313.0</td>\n",
       "      <td>11.5</td>\n",
       "      <td>62</td>\n",
       "      <td>5</td>\n",
       "      <td>4</td>\n",
       "    </tr>\n",
       "    <tr>\n",
       "      <th>4</th>\n",
       "      <td>5</td>\n",
       "      <td>NaN</td>\n",
       "      <td>NaN</td>\n",
       "      <td>14.3</td>\n",
       "      <td>56</td>\n",
       "      <td>5</td>\n",
       "      <td>5</td>\n",
       "    </tr>\n",
       "  </tbody>\n",
       "</table>\n",
       "</div>"
      ],
      "text/plain": [
       "   Unnamed: 0  Ozone  Solar.R  Wind  Temp  Month  Day\n",
       "0           1   41.0    190.0   7.4    67      5    1\n",
       "1           2   36.0    118.0   8.0    72      5    2\n",
       "2           3   12.0    149.0  12.6    74      5    3\n",
       "3           4   18.0    313.0  11.5    62      5    4\n",
       "4           5    NaN      NaN  14.3    56      5    5"
      ]
     },
     "execution_count": 16,
     "metadata": {},
     "output_type": "execute_result"
    }
   ],
   "source": [
    "df = pd.read_csv(\"airquality.csv\", sep=\",\")\n",
    "df.head()"
   ]
  },
  {
   "cell_type": "markdown",
   "metadata": {},
   "source": [
    "Выведите описательные статистики (метод `describe`) для всех признаков, для которых это имеет смысл.  Округлите до второго знака после запятой."
   ]
  },
  {
   "cell_type": "code",
   "execution_count": 17,
   "metadata": {},
   "outputs": [
    {
     "name": "stdout",
     "output_type": "stream",
     "text": [
      "      Unnamed: 0   Ozone Solar.R    Wind    Temp   Month     Day\n",
      "count     153.00  116.00  146.00  153.00  153.00  153.00  153.00\n",
      "mean       77.00   42.13  185.93    9.96   77.88    6.99   15.80\n",
      "std        44.31   32.99   90.06    3.52    9.47    1.42    8.86\n",
      "min         1.00    1.00    7.00    1.70   56.00    5.00    1.00\n",
      "25%        39.00   18.00  115.75    7.40   72.00    6.00    8.00\n",
      "50%        77.00   31.50  205.00    9.70   79.00    7.00   16.00\n",
      "75%       115.00   63.25  258.75   11.50   85.00    8.00   23.00\n",
      "max       153.00  168.00  334.00   20.70   97.00    9.00   31.00\n"
     ]
    }
   ],
   "source": [
    "stats = df.describe().applymap(lambda x: f\"{x:0.2f}\")\n",
    "print(stats)"
   ]
  },
  {
   "cell_type": "markdown",
   "metadata": {},
   "source": [
    "Что можно сказать о наличии в данных выбросов, сравнивая выборочную медиану и выборочное среднее?"
   ]
  },
  {
   "cell_type": "markdown",
   "metadata": {},
   "source": [
    "**Ответ:** медиана подвержена влиянию выбросов куда меньше, чем среднее. Поскольку эти значения отличаются, но не сильно, мы понимаем, что выбросы есть, но их немного (в основном, по Озону)"
   ]
  },
  {
   "cell_type": "markdown",
   "metadata": {},
   "source": [
    "**2.** Теперь для каждого параметра постройте график ящиков с усами (`boxplot`), в котором ось `x` соответствует номеру месяца, а ось `y` — значениям параметра (т.е. свой ящик для каждого месяца). Используйте функцию `seaborn.boxplot`."
   ]
  },
  {
   "cell_type": "code",
   "execution_count": 4,
   "metadata": {},
   "outputs": [
    {
     "data": {
      "image/png": "[encoded data removed]",
      "text/plain": [
       "<Figure size 576x504 with 1 Axes>"
      ]
     },
     "metadata": {
      "needs_background": "light"
     },
     "output_type": "display_data"
    },
    {
     "data": {
      "image/png": "[encoded data removed]",
      "text/plain": [
       "<Figure size 576x504 with 1 Axes>"
      ]
     },
     "metadata": {
      "needs_background": "light"
     },
     "output_type": "display_data"
    },
    {
     "data": {
      "image/png": "[encoded data removed]",
      "text/plain": [
       "<Figure size 576x504 with 1 Axes>"
      ]
     },
     "metadata": {
      "needs_background": "light"
     },
     "output_type": "display_data"
    },
    {
     "data": {
      "image/png": "[encoded data removed]",
      "text/plain": [
       "<Figure size 576x504 with 1 Axes>"
      ]
     },
     "metadata": {
      "needs_background": "light"
     },
     "output_type": "display_data"
    }
   ],
   "source": [
    "#plt.figure(figsize=(8, 7))\n",
    "#sns.boxplot(data = df[\"Ozone\"])\n",
    "\n",
    "#sns.boxplot(x='day', y='tip', data=df[\"Ozone\"], palette='Set3')\n",
    "\n",
    "cols = [\"Ozone\", \"Solar.R\", \"Wind\", \"Temp\"]\n",
    "\n",
    "for col in cols:\n",
    "    plt.figure(figsize=(8, 7))\n",
    "    sns.boxplot(data = df[col])\n",
    "    plt.xlabel(col)\n",
    "    plt.show()"
   ]
  },
  {
   "cell_type": "markdown",
   "metadata": {},
   "source": [
    "Опишите структуру `boxplot`. Какие выводы можно сделать в данном случае?"
   ]
  },
  {
   "cell_type": "markdown",
   "metadata": {},
   "source": [
    "**Ответ:** видимо, имеется 2-3 выброса"
   ]
  },
  {
   "cell_type": "markdown",
   "metadata": {},
   "source": [
    "**3.** Для параметра с наибольшим числом наблюдений, признанных выбросами, посчитайте и сравните: \n",
    "- выборочное среднее; \n",
    "- выборочную медиану;"
   ]
  },
  {
   "cell_type": "code",
   "execution_count": 18,
   "metadata": {},
   "outputs": [
    {
     "data": {
      "image/png": "[encoded data removed]",
      "text/plain": [
       "<Figure size 576x504 with 1 Axes>"
      ]
     },
     "metadata": {
      "needs_background": "light"
     },
     "output_type": "display_data"
    },
    {
     "data": {
      "image/png": "[encoded data removed]",
      "text/plain": [
       "<Figure size 576x504 with 1 Axes>"
      ]
     },
     "metadata": {
      "needs_background": "light"
     },
     "output_type": "display_data"
    },
    {
     "data": {
      "image/png": "[encoded data removed]",
      "text/plain": [
       "<Figure size 576x504 with 1 Axes>"
      ]
     },
     "metadata": {
      "needs_background": "light"
     },
     "output_type": "display_data"
    },
    {
     "data": {
      "image/png": "[encoded data removed]",
      "text/plain": [
       "<Figure size 576x504 with 1 Axes>"
      ]
     },
     "metadata": {
      "needs_background": "light"
     },
     "output_type": "display_data"
    }
   ],
   "source": [
    "for col in cols:\n",
    "    plt.figure(figsize=(8, 7))\n",
    "    plt.hist(x = df[col],bins='auto')\n",
    "    plt.xlabel(col)\n",
    "    plt.show()"
   ]
  },
  {
   "cell_type": "code",
   "execution_count": 21,
   "metadata": {},
   "outputs": [
    {
     "data": {
      "image/png": "[encoded data removed]",
      "text/plain": [
       "<Figure size 576x504 with 1 Axes>"
      ]
     },
     "metadata": {
      "needs_background": "light"
     },
     "output_type": "display_data"
    }
   ],
   "source": [
    "# выведем относительные разности среднего и медианы\n",
    "diffs ={}\n",
    "for col in cols:\n",
    "    diffs[col] = np.abs((float(stats[col][\"mean\"]) - float(stats[col][\"50%\"])) / float(stats[col][\"mean\"]))\n",
    "\n",
    "#print(diffs)\n",
    "\n",
    "# построим график\n",
    "\n",
    "plt.figure(figsize=(8, 7))\n",
    "plt.scatter(diffs.keys(), diffs.values())\n",
    "plt.show()"
   ]
  },
  {
   "cell_type": "code",
   "execution_count": 23,
   "metadata": {},
   "outputs": [
    {
     "name": "stdout",
     "output_type": "stream",
     "text": [
      "Параметр с наибольшим числом выбросов - это Wind\n",
      "Выборочное среднее:  9.96\n",
      "Выборочная медиана:  9.70\n",
      "Относительная разница: 0.03\n"
     ]
    }
   ],
   "source": [
    "print(\"Параметр с наибольшим числом выбросов - это Wind\")\n",
    "print(\"Выборочное среднее: \", stats[\"Wind\"][\"mean\"])\n",
    "print(\"Выборочная медиана: \", stats[\"Wind\"][\"50%\"])\n",
    "print(\"Относительная разница:\", round(np.abs(float(stats[\"Wind\"][\"mean\"]) - float(stats[\"Wind\"][\"50%\"]) ) / float(stats[\"Wind\"][\"mean\"]),2) )"
   ]
  },
  {
   "cell_type": "markdown",
   "metadata": {},
   "source": [
    "Какими свойствами статистик вызваны наблюдаемые различия?"
   ]
  },
  {
   "cell_type": "markdown",
   "metadata": {},
   "source": [
    "**Ответ:** Выбросов у измерений скорости ветра много потому, видимо, что это локально очень сильно флуктурирующий параметр."
   ]
  },
  {
   "cell_type": "markdown",
   "metadata": {},
   "source": [
    "При подсчете этих статистик обычно предполагается, что наблюдения независимы. Выполнено ли это свойство в данном случае?"
   ]
  },
  {
   "cell_type": "markdown",
   "metadata": {},
   "source": [
    "**Ответ:** В случае ветра, вероятно, это действительно так. Характерное время изменения ветра много меньше периода в 1 сутки (период между наблюдениями)."
   ]
  },
  {
   "cell_type": "markdown",
   "metadata": {},
   "source": [
    "А оно часто бывает выполнено? Как это можно проверить? Что бывает, когда оно нарушается? Какие вы есть количественные меры зависимости между признаками? Ответы на эти вопросы вы узнаете далее, но задуматься и порассуждать полезно уже сейчас."
   ]
  },
  {
   "cell_type": "markdown",
   "metadata": {},
   "source": [
    "**Ответ:** Коэффициент корреляции Пирсона?"
   ]
  },
  {
   "cell_type": "markdown",
   "metadata": {},
   "source": [
    "Сделайте выводы о полезности робастных статистик, методах визуального анализа и о наличии независимых одинаково распределённых случайных величин в реальном мире.\n",
    "\n"
   ]
  },
  {
   "cell_type": "markdown",
   "metadata": {},
   "source": [
    "**Вывод:** С помощью робастных статистик можно анализировать количество выбросов."
   ]
  },
  {
   "cell_type": "markdown",
   "metadata": {},
   "source": [
    "## Задача 2\n",
    "Cкачайте данные <a href=\"http://archive.ics.uci.edu/ml/datasets/wine\">`wine dataset`</a> и рассмотрите столбцы `Alcalinity of ash`, `Nonflavanoid phenols`, `Proanthocyanins` и `Hue` для вина *первого типа*. Тип вина указан в первом столбце. Для работы с табличными данными используйте библиотеку `pandas`.\n",
    "\n",
    "Постройте доверительные интервалы для параметров сдвига каждого из столбцов, предполагая, что столбцы имеют нормальное распределение.\n",
    "Требуется построить: \n",
    " * асимтотические доверительные интервалы при помощи центральной предельной теоремы;\n",
    " * точные неасимптотические при помощи распределений хи-квадрат, Стьюдента.\n",
    "\n",
    " \n",
    " Запишите их в виде таблицы."
   ]
  },
  {
   "cell_type": "code",
   "execution_count": 10,
   "metadata": {},
   "outputs": [],
   "source": [
    "nums = list(map(str, range(1, 15)))\n",
    "df = pd.read_csv(\"wine/wine.csv\", sep = \",\", names=nums)\n",
    "df.head()\n",
    "# первая строка - названия заголовков, поэтому делаем ее заголовками для удобства\n",
    "df.columns = df.iloc[0]\n",
    "df = df[1:]\n",
    "\n",
    "# также  значения ячеек - строки (а не числа), и это помешает дальнейшему нормальному отображению графиков\n",
    "# Поэтому конвертируем в числа\n",
    "\n",
    "df = df.astype(float)\n",
    "\n",
    "df.head()"
   ]
  },
  {
   "cell_type": "code",
   "execution_count": 7,
   "metadata": {
    "scrolled": false
   },
   "outputs": [],
   "source": [
    "stats = df.describe()\n",
    "df.describe()"
   ]
  },
  {
   "cell_type": "code",
   "execution_count": 8,
   "metadata": {},
   "outputs": [],
   "source": [
    "# чисто шоб посмотреть, построим гистограммки распределений\n",
    "# Вино бывает разных типов, по условию, мы рассматриваем только первый. поэтому выбираем только нужные строчки из таблицы\n",
    "nums_selected = [\"Ash\", \"Nonflavanoid.phenols\", \"Proanth\", \"Hue\"]\n",
    "# выбрали интересующие нас столбцы\n",
    "first_wine_df = df.loc[df['Wine'] == 1]\n",
    "for col in nums_selected:\n",
    "    plt.figure(figsize=(8, 7))\n",
    "    plt.hist(x = first_wine_df[col], bins=\"auto\")\n",
    "    plt.xlabel(col)\n",
    "    plt.show()"
   ]
  },
  {
   "cell_type": "markdown",
   "metadata": {
    "scrolled": true
   },
   "source": [
    "ну такие себе нормальные распределения.. но, видимо, с пивом покатит."
   ]
  },
  {
   "cell_type": "code",
   "execution_count": 81,
   "metadata": {},
   "outputs": [
    {
     "name": "stdout",
     "output_type": "stream",
     "text": [
      "Number of degrees of freedom:  178\n",
      "Delta for normal distribution:  1.9599639845400545\n",
      "Delta for Student distribution:  1.9733808885447033\n",
      "\n",
      "\n",
      "Considering column:  Ash\n",
      "Standard deviation (corrected):  0.22586797359404254\n",
      "Shift parameter estimation:  2.4555932203389834\n",
      "Normal half-interval:  0.03318125020818808\n",
      "Student half-interval:  0.033408391957888126\n",
      "Relative difference:  0.006798942911899545\n",
      "\n",
      "\n",
      "Considering column:  Nonflavanoid.phenols\n",
      "Standard deviation (corrected):  0.06964898792316133\n",
      "Shift parameter estimation:  0.29000000000000004\n",
      "Normal half-interval:  0.010231820201208209\n",
      "Student half-interval:  0.010301861972646499\n",
      "Relative difference:  0.006798942911899299\n",
      "\n",
      "\n",
      "Considering column:  Proanth\n",
      "Standard deviation (corrected):  0.40975446772767\n",
      "Shift parameter estimation:  1.8993220338983048\n",
      "Normal half-interval:  0.06019518969976432\n",
      "Student half-interval:  0.0606072549663273\n",
      "Relative difference:  0.006798942911899275\n",
      "\n",
      "\n",
      "Considering column:  Hue\n",
      "Standard deviation (corrected):  0.11581706871339287\n",
      "Shift parameter estimation:  1.0620338983050848\n",
      "Normal half-interval:  0.0170141657279178\n",
      "Student half-interval:  0.017130635943743845\n",
      "Relative difference:  0.006798942911899324\n",
      "\n",
      "\n"
     ]
    }
   ],
   "source": [
    "# теперь рассчитываем реальне и асимптотические ворота. Ставим, скажем, степень доверия 0.05, и составляем таблицу\n",
    "# для каждого из параметров: нормальный и стьюдент. По сути, повторяем вычисление из последней задачи задания 3\n",
    "n = len(df.index)\n",
    "print(\"Number of degrees of freedom: \", n)\n",
    "alpha = 0.05\n",
    "\n",
    "delta_normal = - sps.norm.ppf(alpha/2, loc = 0, scale = 1)\n",
    "print(\"Delta for normal distribution: \",delta_normal)\n",
    "\n",
    "delta_student = - sps.t.ppf(alpha/2, loc = 0, scale = 1, df = n)\n",
    "print(\"Delta for Student distribution: \", delta_student)\n",
    "\n",
    "print(\"\\n\")\n",
    "\n",
    "\n",
    "for col in nums_selected:\n",
    "    # рассматриваем каждый из параметров для вина первого типа\n",
    "    data = np.array(first_wine_df[col])\n",
    "    print(\"Considering column: \", col)\n",
    "    # используем несмещенную оценку дисперсии, чтобы не плодить ошибки\n",
    "    S = np.sqrt(n / (n-1)) * np.std(data)\n",
    "    theta = np.mean(data)\n",
    "    print(\"Standard deviation (corrected): \", S)\n",
    "    print(\"Shift parameter estimation: \", theta)\n",
    "    \n",
    "    # рассчитываем реальные доверительные интервалы\n",
    "    int_normal = delta_normal * S / np.sqrt(n)\n",
    "    int_student = delta_student * S / np.sqrt(n)\n",
    "\n",
    "    print(\"Normal half-interval: \", int_normal)\n",
    "    print(\"Student half-interval: \", int_student)\n",
    "    print(\"Relative difference: \", np.abs(int_normal - int_student) / int_student)\n",
    "    print(\"\\n\")"
   ]
  },
  {
   "cell_type": "markdown",
   "metadata": {},
   "source": [
    "Сделайте выводы по полученной таблице."
   ]
  },
  {
   "cell_type": "markdown",
   "metadata": {},
   "source": [
    "**Вывод:** Ну почти никак разница не ощущается на выборке размера 150-200. На выборках поменьше, видимо, критично."
   ]
  },
  {
   "cell_type": "markdown",
   "metadata": {},
   "source": [
    "## Задача 3"
   ]
  },
  {
   "cell_type": "markdown",
   "metadata": {},
   "source": [
    "Постройте плотность стандартного **нормального распределения** и стандартного **распределения Коши**. Видим, что распределение Коши обладает более тяжелыми хвостами, нежели нормальное."
   ]
  },
  {
   "cell_type": "code",
   "execution_count": 76,
   "metadata": {},
   "outputs": [
    {
     "data": {
      "image/png": "[encoded data removed]",
      "text/plain": [
       "<Figure size 720x360 with 1 Axes>"
      ]
     },
     "metadata": {
      "needs_background": "light"
     },
     "output_type": "display_data"
    }
   ],
   "source": [
    "grid = np.linspace(-7, 7, 1000)\n",
    "\n",
    "plt.figure(figsize=(10, 5))\n",
    "plt.plot(grid, sps.cauchy.pdf(grid), color=red, label='Коши', lw=3)\n",
    "plt.plot(grid, sps.norm.pdf(grid), color=blue, \n",
    "         label='$\\mathcal{N}(0, 1)$', lw=3)\n",
    "plt.title('Плотности распределений')\n",
    "plt.legend();"
   ]
  },
  {
   "cell_type": "markdown",
   "metadata": {},
   "source": [
    "Сгенерируйте $10^5$ выборок размера 30 из стандартного **нормального распределения**."
   ]
  },
  {
   "cell_type": "code",
   "execution_count": 77,
   "metadata": {},
   "outputs": [
    {
     "name": "stdout",
     "output_type": "stream",
     "text": [
      "1000000\n"
     ]
    }
   ],
   "source": [
    "size = 30\n",
    "num = int(10e5)\n",
    "\n",
    "samples = np.zeros(shape = (num, size))\n",
    "print(num)\n",
    "for i in range(num):\n",
    "    samples[i] = sps.norm().rvs(size = size)"
   ]
  },
  {
   "cell_type": "markdown",
   "metadata": {},
   "source": [
    "По каждой выборке из 30 элементов посчитайте выборочные средние. Далее по ним постройте гистограмму и плотность стандартного нормального распределения. Какой вывод вы можете сделать из полученного графика?"
   ]
  },
  {
   "cell_type": "code",
   "execution_count": 123,
   "metadata": {},
   "outputs": [
    {
     "data": {
      "image/png": "[encoded data removed]",
      "text/plain": [
       "<Figure size 1080x432 with 1 Axes>"
      ]
     },
     "metadata": {
      "needs_background": "light"
     },
     "output_type": "display_data"
    }
   ],
   "source": [
    "means = np.zeros(num)\n",
    "for i in range(num):\n",
    "    means[i] = np.mean(samples[i])\n",
    "\n",
    "plt.figure(figsize=(15,6))\n",
    "plt.hist(means, bins = 100, label='Плотность $\\\\mathcal{N}(0,1)$')\n",
    "#sns.distplot(means, bins = \"auto\")\n",
    "grid = np.linspace(-1, 1, 1000)\n",
    "#plt.plot(grid, sps.norm.pdf(grid), color = \"blue\")\n",
    "plt.legend()\n",
    "plt.show()"
   ]
  },
  {
   "cell_type": "markdown",
   "metadata": {},
   "source": [
    "**Вывод:** ЦПТ действительно работает."
   ]
  },
  {
   "cell_type": "markdown",
   "metadata": {},
   "source": [
    "Сгенерируем $10^5$ выборок размера 30 из стандартного **распределения Коши**."
   ]
  },
  {
   "cell_type": "code",
   "execution_count": 1,
   "metadata": {},
   "outputs": [],
   "source": [
    "size = 30\n",
    "num = int(10e5)\n",
    "means = np.zeros(num)\n",
    "samples = np.zeros(shape = (num, size))\n",
    "print(num)\n",
    "for i in range(num):\n",
    "    if i % 10e4 == 0:\n",
    "        print(i/num)\n",
    "    samples[i] = sps.cauchy().rvs(size = size)\n",
    "    means[i] = np.mean(samples[i])"
   ]
  },
  {
   "cell_type": "markdown",
   "metadata": {},
   "source": [
    "Построим аналогичный график. "
   ]
  },
  {
   "cell_type": "code",
   "execution_count": null,
   "metadata": {},
   "outputs": [],
   "source": [
    "means = np.zeros(num)\n",
    "for i in range(num):\n",
    "    means[i] = np.mean(samples[i])\n",
    "\n",
    "plt.figure(figsize=(15,6))\n",
    "plt.hist(means, bins = \"auto\", label='Плотность $\\\\mathcal{N}(0,1)$')\n",
    "#sns.distplot(means, bins = \"auto\")\n",
    "grid = np.linspace(-1, 1, 1000)\n",
    "plt.plot(grid, sps.cauchy().pdf(grid), color = \"blue\")\n",
    "plt.legend()\n",
    "plt.show()"
   ]
  },
  {
   "cell_type": "markdown",
   "metadata": {},
   "source": [
    "Сравните графики для нормального распределения и для Коши, опишите ваше сравнение в выводе по задаче."
   ]
  },
  {
   "cell_type": "markdown",
   "metadata": {},
   "source": [
    "**Вывод:** "
   ]
  },
  {
   "cell_type": "markdown",
   "metadata": {},
   "source": [
    "\n",
    "### <b><font color=\"orange\">Сложная часть</font></b>\n",
    "\n",
    "## Задача 4\n",
    "\n",
    "В этой задаче нужно визуализировать доверительные интервалы для выборки из равномерного распределения $U[0, \\theta]$.\n",
    "\n",
    "\n",
    "1. Постройте асимптотический доверительный интервал для $\\theta$, используя асимптотически нормальную оценку $\\theta$.\n",
    "\n",
    "\n"
   ]
  },
  {
   "cell_type": "markdown",
   "metadata": {},
   "source": [
    "**Ответ:**"
   ]
  },
  {
   "cell_type": "markdown",
   "metadata": {},
   "source": [
    "2. Постройте точный доверительный интервал для $\\theta$, используя статистику $X_{(n)}$.\n",
    "\n",
    "    - Найдите функцию распредления $X_{(n)}$ по определению. \n",
    "    - Точный доверительный интервал для $\\theta$ имеет смысл строить в виде $(X_{(n)}, X_{(n)} + c_{\\alpha})$ (поясните почему). \n",
    "    - Нужно найти такое $c_{\\alpha}$, что $\\mathsf{P_{\\theta}}(\\theta \\in (X_{(n)}, X_{(n)} + c_{\\alpha})) = \\alpha$ "
   ]
  },
  {
   "cell_type": "markdown",
   "metadata": {},
   "source": [
    "**Ответ:**"
   ]
  },
  {
   "cell_type": "markdown",
   "metadata": {},
   "source": [
    "Визуализируйте интервалы. Для этого сгенерируйте выборку $X_1, ... X_{N}, N = 100$ и постройте график доверительных интервалов уровня доверия $0.95$, вычисленных для всех подвыборок размера $n$ вида $X_1, ... X_n$, $1 \\le n \\le 100$, используя написанную ниже функцию. Нужно нанести на график точки выборки.\n",
    "\n",
    "Для вычисления квантилей у каждого распределения из `scipy.stats` используйте функцию `ppf`."
   ]
  },
  {
   "cell_type": "code",
   "execution_count": null,
   "metadata": {},
   "outputs": [],
   "source": [
    "def draw_confidence_interval(\n",
    "    left,\n",
    "    right,\n",
    "    estimation=None,\n",
    "    sample=None, \n",
    "    ylim=(None, None), \n",
    "    estim_label = '',\n",
    "    sample_label='',\n",
    "    color=None,\n",
    "    interval_label=None\n",
    "):\n",
    "    '''\n",
    "    Рисует доверительный интервал и оценку в зависимости от размера выборки.\n",
    "    \n",
    "    :param left: левые границы интервалов (в зависимости от n)\n",
    "    :param right: правые границы интервалов (в зависимости от n)\n",
    "    :param estimation: оценки (в зависимости от n)\n",
    "    :param sample: выборка\n",
    "    :param ylim: ограничение вертикальной оси\n",
    "    :param estim_label: подпись к оценке\n",
    "    :param sample_label: подпись к выборке\n",
    "    :param color: цвет, которым будет отображен доверительный интервал\n",
    "    '''\n",
    "    \n",
    "    \n",
    "    # ваш код"
   ]
  },
  {
   "cell_type": "markdown",
   "metadata": {},
   "source": [
    "**Решение:**"
   ]
  },
  {
   "cell_type": "code",
   "execution_count": null,
   "metadata": {},
   "outputs": [],
   "source": [
    "# ваш код"
   ]
  },
  {
   "cell_type": "markdown",
   "metadata": {},
   "source": [
    "**Вывод:**"
   ]
  },
  {
   "cell_type": "markdown",
   "metadata": {},
   "source": [
    "\n",
    "## Задача 5\n",
    "\n",
    "\n",
    "Предлагается изучить некоторые свойства распределения Коши с параметром сдвига $\\theta$, обладающего плотностью распределения $p_{\\theta}(x) = \\frac{1}{\\pi \\left(1 + \\left(x- \\theta\\right)^2\\right)}$.\n",
    "\n",
    "На высоте 1 метр от точки $\\theta$ находится источник $\\gamma$-излучения, \n",
    "причем направления траекторий $\\gamma$-квантов случайны, т.е. равномерно распределены по полуокружности. Тогда $X_i, i=1,...,n$ — зарегистрированные координаты точек пересечения $\\gamma$-квантов с поверхностью детекторной плоскости — образуют выборку из распределения Коши со сдвигом $\\theta$."
   ]
  },
  {
   "cell_type": "markdown",
   "metadata": {},
   "source": [
    "**1.** На отрезке $[-7, 7]$ постройте плотность стандартного нормального распределения и стандартного распределения Коши. Не забудьте добавить легенду."
   ]
  },
  {
   "cell_type": "markdown",
   "metadata": {},
   "source": [
    "**Решение:**"
   ]
  },
  {
   "cell_type": "code",
   "execution_count": null,
   "metadata": {},
   "outputs": [],
   "source": [
    "plt.figure(figsize=(15,6))\n",
    "\n",
    "grid = np.linspace(-7, 7, 10000)\n",
    "\n",
    "plt.plot(sps.norm().pdf(grid), label=\"Normal\")\n",
    "plt.plot(sps.cauchy().pdf(grid), label=\"Cauchy\")\n",
    "\n",
    "plt.legend()\n",
    "plt.show()"
   ]
  },
  {
   "cell_type": "markdown",
   "metadata": {},
   "source": [
    "**Вывод:** У Коши более тяжелые хвосты, чем у нормального распределения."
   ]
  },
  {
   "cell_type": "markdown",
   "metadata": {},
   "source": [
    "**2.** Чему равна асимптотическая дисперсия $\\sigma_{\\alpha}^2$ усеченного среднего $\\overline{X}_{\\alpha}$, где $0 < \\alpha < 1/2$, для распределения Коши? Помочь в ее вычислении может теорема, упомянутая на лекциях. Посчитайте асимптотическую дисперсию аналитически. Постройте график зависимости асимптотической дисперсии $\\sigma_{\\alpha}^2$ усеченного среднего $\\overline{X}_{\\alpha}$, где $0 < \\alpha < 1/2$, от $\\alpha$.\n",
    "\n",
    "Настройте видимую область графика по оси *y* так, чтобы четко была отображена информативная часть графика. Отметьте на графике минимум функции."
   ]
  },
  {
   "cell_type": "markdown",
   "metadata": {},
   "source": [
    "**Решение:**"
   ]
  },
  {
   "cell_type": "code",
   "execution_count": null,
   "metadata": {},
   "outputs": [],
   "source": []
  },
  {
   "cell_type": "markdown",
   "metadata": {},
   "source": [
    "При каком значении $\\alpha$ асимптотическая дисперсия $\\sigma^2_{\\alpha}$ минимальна и чему она равна? Ответ можно найти численно."
   ]
  },
  {
   "cell_type": "markdown",
   "metadata": {},
   "source": [
    "**Ответ:**<...>"
   ]
  },
  {
   "cell_type": "markdown",
   "metadata": {},
   "source": [
    "**3.** Сгенерируйте выборку $X = \\left(X_1, \\dots, X_{1000} \\right)$ из стандартного распределения Коши. Для всех $n \\leqslant 1000$ по первым $n$ элементам выборки $X_1, \\dots, X_n$ вычислите значения следующих оценок:\n",
    "- $\\overline{X}$  —  выборочное среднее;\n",
    "- $\\overline{X}_{\\alpha}$ —  усеченное среднее, где $\\alpha$ &mdash; значение, на котором достигается минимум $\\sigma^2_{\\alpha}$;\n",
    "- $\\widehat{\\mu}$ —  выборочная медиана;\n",
    "\n",
    "На графиках изобразите зависимость значений **всех оценок** от $n$ для одной реализации выборки, а на другом графики траекторий по нескольким реализациям. \n",
    "\n",
    "Постройте также график, на котором изобразите значения MSE для каждой оценки от размера выборки $n$.\n",
    "\n",
    "*Указание:* $MSE_{\\widehat{\\theta}}(\\theta) = (\\widehat{\\theta} - \\theta)^2$. В качестве $\\theta$ возьмите истинное значение для стандартного распределения Коши. Для подсчета усеченного среднего можно использовать функцию `scipy.stats.trim_mean`.\n",
    "\n",
    "Сравните асимптотические дисперсии оценок. Сделайте вывод.\n",
    "\n",
    "\n",
    "**Решение:**"
   ]
  },
  {
   "cell_type": "code",
   "execution_count": null,
   "metadata": {},
   "outputs": [],
   "source": [
    "n = 1000\n",
    "sample = pdf."
   ]
  },
  {
   "cell_type": "markdown",
   "metadata": {},
   "source": [
    "**Вывод:** <...>"
   ]
  }
 ],
 "metadata": {
  "kernelspec": {
   "display_name": "Python 3",
   "language": "python",
   "name": "python3"
  },
  "language_info": {
   "codemirror_mode": {
    "name": "ipython",
    "version": 3
   },
   "file_extension": ".py",
   "mimetype": "text/x-python",
   "name": "python",
   "nbconvert_exporter": "python",
   "pygments_lexer": "ipython3",
   "version": "3.8.8"
  },
  "vscode": {
   "interpreter": {
    "hash": "415525cc3f40ad8355b7c2a7d3b034c5d7bb85ff256d91eaa0aa6b53328ab0d3"
   }
  }
 },
 "nbformat": 4,
 "nbformat_minor": 2
}
