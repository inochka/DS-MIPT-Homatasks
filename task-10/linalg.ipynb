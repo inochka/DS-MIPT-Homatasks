{
 "cells": [
  {
   "cell_type": "code",
   "execution_count": 76,
   "id": "8a7ddfb1",
   "metadata": {},
   "outputs": [],
   "source": [
    "import numpy as np\n",
    "import numpy.linalg as la\n",
    "import matplotlib.pyplot as plt"
   ]
  },
  {
   "cell_type": "markdown",
   "id": "1eaf2874",
   "metadata": {},
   "source": [
    "<h1> СЛУ </h1>"
   ]
  },
  {
   "cell_type": "markdown",
   "id": "4bb1ab20",
   "metadata": {},
   "source": [
    "<h2> Итерационные методы </h2>"
   ]
  },
  {
   "cell_type": "markdown",
   "id": "fd4349f8",
   "metadata": {},
   "source": [
    "<h3> Классификация </h3>"
   ]
  },
  {
   "cell_type": "markdown",
   "id": "40e22e89",
   "metadata": {},
   "source": [
    "Пусть дана СЛАУ\n",
    "$$\n",
    "A x=b\n",
    "$$\n",
    "Для того, чтобы воспользоваться методом простой итерации, необходимо привести её к виду $x=B x+g$. Представим матрицу $A$ в виде $A=M-N$, где $M-$ обратима. Тогда система приводится к виду $x=B x+g$ следующим образом:\n",
    "$$\n",
    "\\begin{aligned}\n",
    "& (M-N) x=b \\\\\n",
    "& M x=N x+b \\\\\n",
    "& x=M^{-1} N x+M^{-1} b\n",
    "\\end{aligned}\n",
    "$$\n",
    "Матрицы $M$ и $N$ могут быть выбраны различными способами; в зависимости от конкретного способа получаются различные разновидности метода. Обозначим далее за $L$ - строго нижнюю треугольную часть $A$, за $D$ - диагональную часть $A$, за $U$ - строго верхнюю треугольную часть $A$. Получающиеся таким способом разновидности эквиваленты следующим методам:\n",
    "- $M=\\frac{1}{\\omega} E$ - метод Ричардсона;\n",
    "- $M=D$ - метод Якоби;\n",
    "- $M=\\frac{1}{\\omega} D$ - взвешенный метод Якоби;\n",
    "- $M=D+L$ - метод Гаусса - Зейделя;\n",
    "- $M=\\frac{1}{\\omega} D+L$ - метод релаксации;\n",
    "- $M(\\omega)=\\frac{\\omega}{2-\\omega}\\left(\\frac{1}{\\omega} D+L\\right) D^{-1}\\left(\\frac{1}{\\omega} D+L\\right)^{\\top}$ - метод симметричной релаксации."
   ]
  },
  {
   "cell_type": "markdown",
   "id": "989b7e24",
   "metadata": {},
   "source": [
    "<h3> Условия сходимости </h3>"
   ]
  },
  {
   "cell_type": "markdown",
   "id": "88049f1f",
   "metadata": {},
   "source": [
    "Необходимое и достаточное условие сходимости: $\\rho(\\alpha)<1$, где $-\\rho(\\alpha)$ спектральный радиус $\\alpha^{[1]}$.\n",
    "Достаточное условие сходимости: $\\|\\alpha\\|<1^{[1]}$.\n",
    "В частности при выборе нормы, подчинённой векторной $\\|x\\|_{\\infty}=\\max _{1 \\leq i \\leq n}\\left|x_i\\right|$ условие сходимости приобретает вид $\\max _{j=1}^n\\left|\\alpha_{i j}\\right|<1$ (где $i=1,2, \\ldots, n$ ).\n",
    "При выборе нормы $\\|x\\|_1=\\sum_{i=1}^n\\left|x_i\\right|$ условие приобретает вид $\\sum_{\\substack{i=1 \\\\ i \\neq j}}^n\\left|\\alpha_{i j}\\right|<1$ (где $j=1,2, \\ldots, n$ ), что называют условием диагонального преобладания исходной матрицы $A$."
   ]
  },
  {
   "cell_type": "markdown",
   "id": "d39a1077",
   "metadata": {},
   "source": [
    "<h3> Оценка погрешности </h3>"
   ]
  },
  {
   "cell_type": "markdown",
   "id": "2df5d96b",
   "metadata": {},
   "source": [
    "Пусть $x$ - вектор точного решения. Тогда можно получить следующие оценки погрешности приближённого решения $x^{(k)}$ на $k$-м шаге алгоритма ${ }^{[2]}$ :\n",
    "- априорная:\n",
    "$$\n",
    "\\left\\|x-x^{(k)}\\right\\| \\leq\\|\\alpha\\|^k\\left\\|x^{(0)}\\right\\|+\\frac{\\|\\alpha\\|^k}{1-\\|\\alpha\\|}\\|\\beta\\| .\n",
    "$$\n",
    "- апостериорная:\n",
    "$$\n",
    "\\left\\|x-x^{(k)}\\right\\| \\leq \\frac{\\|\\alpha\\|}{1-\\|\\alpha\\|}\\left\\|x^{(k)}-x^{(k-1)}\\right\\| .\n",
    "$$"
   ]
  },
  {
   "cell_type": "markdown",
   "id": "5f23736a",
   "metadata": {},
   "source": [
    "<h3> Практика  </h3>"
   ]
  },
  {
   "cell_type": "markdown",
   "id": "cd75291d",
   "metadata": {},
   "source": [
    "Порешаем методом Якоби, чтобы не обращать матрицу."
   ]
  },
  {
   "cell_type": "code",
   "execution_count": 147,
   "id": "7b4bf1c8",
   "metadata": {},
   "outputs": [],
   "source": [
    "n = 100\n",
    "b = np.random.rand(n)\n",
    "A = np.random.rand(n,n) + 40 * np.diag(np.ones(n))\n",
    "#la.norm(A)\n",
    "L = np.zeros( (n,n) )\n",
    "U = L = np.zeros( (n,n) )\n",
    "# для экономии памяти лучше будем хранить D как вектор, а не матрицу\n",
    "D = L = np.zeros( n )"
   ]
  },
  {
   "cell_type": "code",
   "execution_count": 148,
   "id": "6d655123",
   "metadata": {},
   "outputs": [],
   "source": [
    "# Вычислим нижнюю часть\n",
    "for i in range(n):\n",
    "    for j in range(i):\n",
    "        U[i, j] = A[i,j]\n",
    "    D[i] = A[i,i]\n",
    "    \n",
    "L = A - np.diag(D) - U"
   ]
  },
  {
   "cell_type": "code",
   "execution_count": 149,
   "id": "633a9931",
   "metadata": {
    "scrolled": false
   },
   "outputs": [
    {
     "name": "stdout",
     "output_type": "stream",
     "text": [
      "[[40.07226754  0.59681808  0.38352176 ...  0.60022098  0.32185437\n",
      "   0.33357719]\n",
      " [ 0.90327577 40.00165828  0.84947987 ...  0.40672323  0.62966656\n",
      "   0.84206146]\n",
      " [ 0.88006674  0.16388992 40.07010911 ...  0.7261341   0.36978314\n",
      "   0.7077471 ]\n",
      " ...\n",
      " [ 0.59103322  0.89026888  0.52770444 ... 40.58566954  0.36221743\n",
      "   0.04427126]\n",
      " [ 0.15011203  0.6389483   0.08114004 ...  0.51255752 40.39977236\n",
      "   0.72363358]\n",
      " [ 0.94348312  0.79538634  0.34125878 ...  0.88223095  0.59042535\n",
      "  40.39319422]] [40.07226754 40.00165828 40.07010911 40.06699735 40.88229516 40.22380236\n",
      " 40.70620112 40.72284419 40.80121083 40.88572352 40.86155481 40.34368994\n",
      " 40.34484552 40.80848359 40.39171839 40.24093348 40.83787374 40.99663864\n",
      " 40.78424112 40.46306307 40.83301257 40.81023152 40.39023688 40.33714652\n",
      " 40.10993602 40.57861567 40.27743788 40.70071985 40.23276602 40.84298917\n",
      " 40.18047702 40.57266859 40.97202725 40.92076866 40.93598652 40.36323323\n",
      " 40.21275048 40.70208314 40.38631819 40.70592631 40.54135735 40.72628402\n",
      " 40.89898244 40.78349742 40.66443821 40.64715815 40.16751381 40.74142174\n",
      " 40.9086057  40.40399148 40.81731257 40.36133951 40.98706777 40.86287549\n",
      " 40.61874934 40.01563579 40.25892061 40.9813339  40.6125733  40.40800157\n",
      " 40.79267479 40.34490627 40.86283554 40.08133999 40.99791185 40.24881167\n",
      " 40.56477945 40.6922931  40.45636789 40.95074023 40.50605181 40.8277532\n",
      " 40.65844834 40.17226462 40.79713308 40.90437533 40.85968704 40.12588055\n",
      " 40.25252477 40.59395898 40.73975277 40.60940512 40.45268636 40.35913112\n",
      " 40.09415102 40.39271134 40.93282255 40.95834738 40.23819254 40.64764564\n",
      " 40.2322672  40.35715851 40.65077426 40.58209296 40.44515146 40.63844122\n",
      " 40.36007096 40.58566954 40.39977236 40.39319422] [[0.         0.         0.         ... 0.         0.         0.        ]\n",
      " [0.90327577 0.         0.         ... 0.         0.         0.        ]\n",
      " [0.88006674 0.16388992 0.         ... 0.         0.         0.        ]\n",
      " ...\n",
      " [0.59103322 0.89026888 0.52770444 ... 0.         0.         0.        ]\n",
      " [0.15011203 0.6389483  0.08114004 ... 0.51255752 0.         0.        ]\n",
      " [0.94348312 0.79538634 0.34125878 ... 0.88223095 0.59042535 0.        ]] [[0.         0.59681808 0.38352176 ... 0.60022098 0.32185437 0.33357719]\n",
      " [0.         0.         0.84947987 ... 0.40672323 0.62966656 0.84206146]\n",
      " [0.         0.         0.         ... 0.7261341  0.36978314 0.7077471 ]\n",
      " ...\n",
      " [0.         0.         0.         ... 0.         0.36221743 0.04427126]\n",
      " [0.         0.         0.         ... 0.         0.         0.72363358]\n",
      " [0.         0.         0.         ... 0.         0.         0.        ]]\n"
     ]
    }
   ],
   "source": [
    "print(A, D, U, L)"
   ]
  },
  {
   "cell_type": "code",
   "execution_count": 150,
   "id": "858c19bf",
   "metadata": {},
   "outputs": [
    {
     "name": "stdout",
     "output_type": "stream",
     "text": [
      "[[0.         0.59681808 0.38352176 ... 0.60022098 0.32185437 0.33357719]\n",
      " [0.90327577 0.         0.84947987 ... 0.40672323 0.62966656 0.84206146]\n",
      " [0.88006674 0.16388992 0.         ... 0.7261341  0.36978314 0.7077471 ]\n",
      " ...\n",
      " [0.59103322 0.89026888 0.52770444 ... 0.         0.36221743 0.04427126]\n",
      " [0.15011203 0.6389483  0.08114004 ... 0.51255752 0.         0.72363358]\n",
      " [0.94348312 0.79538634 0.34125878 ... 0.88223095 0.59042535 0.        ]]\n"
     ]
    }
   ],
   "source": [
    "print( (L + U) )"
   ]
  },
  {
   "cell_type": "code",
   "execution_count": 151,
   "id": "b127eed2",
   "metadata": {},
   "outputs": [
    {
     "name": "stdout",
     "output_type": "stream",
     "text": [
      "0.8415207711302263\n"
     ]
    }
   ],
   "source": [
    "print(la.norm( la.inv(np.diag(D) + L) @  U , ord = \"fro\") )"
   ]
  },
  {
   "cell_type": "code",
   "execution_count": 164,
   "id": "58825965",
   "metadata": {},
   "outputs": [
    {
     "name": "stdout",
     "output_type": "stream",
     "text": [
      "[0.92696771 0.28549408 0.86913595 0.96397793 0.7673275  0.30704079\n",
      " 0.72674844 0.44906382 0.24272648 0.8863166  0.08866484 0.86399546\n",
      " 0.61785547 0.53014579 0.76792954 0.2284461  0.63653823 0.80867347\n",
      " 0.51606845 0.05933985 0.41825733 0.57366795 0.55266289 0.59114219\n",
      " 0.50255195 0.20615361 0.51891297 0.53141454 0.88265709 0.64418029\n",
      " 0.258577   0.03187434 0.53709717 0.41152554 0.16208922 0.0065475\n",
      " 0.78683311 0.00266771 0.95791544 0.77918024 0.02375375 0.39038906\n",
      " 0.05428626 0.22198946 0.23543849 0.61097874 0.08336457 0.59699264\n",
      " 0.33892659 0.6387735  0.60994445 0.39785843 0.73228306 0.61498799\n",
      " 0.80699514 0.56629232 0.04011658 0.57683752 0.36435899 0.87112751\n",
      " 0.76389103 0.87633326 0.74118495 0.3699028  0.05442478 0.25893426\n",
      " 0.12511772 0.81248226 0.9270739  0.74947496 0.4418251  0.21059647\n",
      " 0.20776728 0.84172364 0.01234453 0.62794391 0.58877581 0.28877719\n",
      " 0.51934529 0.63238644 0.69821955 0.06622977 0.89058811 0.91683282\n",
      " 0.85224246 0.31571047 0.09374718 0.55014187 0.36405111 0.42597111\n",
      " 0.94128848 0.72086456 0.13898526 0.97358628 0.00782754 0.82032864\n",
      " 0.793953   0.55797453 0.02150951 0.74541833]\n"
     ]
    }
   ],
   "source": [
    "# число итераций\n",
    "m = 2000\n",
    "epsilon = 0.01\n",
    "# начальное приближение\n",
    "x = np.random.rand(n)\n",
    "r = np.zeros( (m, n) )\n",
    "x_error = 0\n",
    "x_prev = np.zeros( n )\n",
    "x_prev_prev = np.zeros( n )\n",
    "\n",
    "print(x)\n",
    "\n",
    "for i in range(m):\n",
    "    r[i] = np.abs(A @ x - b)\n",
    "    #print(x, x_prev, x_prev_prev)\n",
    "    x_prev_prev = x_prev\n",
    "    x_prev = x\n",
    "    x = la.inv(np.diag(D) + L) @  ( U @ x + b )\n",
    "    if i > 1:\n",
    "        if la.norm(x_prev - x_prev_prev) > 0:\n",
    "            q = la.norm(x - x_prev) / la.norm(x_prev - x_prev_prev)\n",
    "        #print(q)\n",
    "        x_error = la.norm(x - x_prev) / (1 - q)"
   ]
  },
  {
   "cell_type": "code",
   "execution_count": 165,
   "id": "8a03e954",
   "metadata": {},
   "outputs": [
    {
     "name": "stdout",
     "output_type": "stream",
     "text": [
      "0.0\n"
     ]
    }
   ],
   "source": [
    "print(x_error)\n",
    "# ага, то есть мы с какого-то момента налетаем на чертов инвариантный вектор.. но почему-то не тот\n",
    "# upd. все изменилось, как только мы поменяли Якоби на Зейделя. Мда, рил Зейдель рулит. пусть и чутка подольше\n",
    "# и матрицу нужно обращать, ну да все равно.."
   ]
  },
  {
   "cell_type": "code",
   "execution_count": 163,
   "id": "2350281e",
   "metadata": {},
   "outputs": [
    {
     "name": "stdout",
     "output_type": "stream",
     "text": [
      "[2.77555756e-17 1.18474503e-02 9.31264102e-03 1.42383639e-02\n",
      " 3.48692690e-03 1.08914825e-02 4.20770174e-05 2.90251314e-02\n",
      " 2.79659958e-02 4.08362348e-02 3.31045805e-02 7.76486578e-02\n",
      " 2.82541943e-02 5.73734630e-02 4.98887402e-02 5.05658256e-02\n",
      " 4.24796563e-02 4.95404140e-02 2.82114879e-02 5.96377626e-02\n",
      " 7.16622385e-02 5.33022224e-02 2.94536330e-02 8.74045199e-02\n",
      " 6.30693906e-02 5.96211657e-02 6.66160999e-02 5.60761744e-02\n",
      " 7.32099618e-02 1.02859754e-01 7.22503364e-02 1.11922211e-01\n",
      " 9.84959718e-02 7.21303700e-02 1.03146963e-01 7.25875197e-02\n",
      " 1.51965310e-01 9.51624449e-02 1.18161404e-01 1.41033717e-01\n",
      " 1.45762169e-01 1.77218271e-01 1.70906245e-01 1.62922712e-01\n",
      " 1.81265034e-01 1.90422126e-01 1.20307661e-01 1.80119564e-01\n",
      " 1.56414851e-01 1.71809056e-01 1.43599826e-01 1.99581381e-01\n",
      " 2.17365099e-01 2.47039373e-01 2.36146573e-01 2.78642957e-01\n",
      " 2.38951033e-01 2.78101002e-01 3.04477293e-01 3.02528300e-01\n",
      " 3.27733818e-01 3.57404984e-01 2.78417551e-01 3.32700787e-01\n",
      " 4.09063664e-01 3.73400887e-01 4.41535339e-01 4.16404058e-01\n",
      " 4.98935417e-01 4.68533505e-01 4.86499808e-01 3.91207759e-01\n",
      " 3.75423118e-01 5.12882161e-01 5.27159871e-01 5.20112516e-01\n",
      " 5.91719726e-01 4.85478858e-01 6.19239117e-01 5.00687265e-01\n",
      " 5.21416144e-01 6.68475842e-01 5.09272400e-01 5.47531346e-01\n",
      " 6.77079990e-01 7.79980187e-01 6.25019968e-01 7.10928158e-01\n",
      " 7.62740738e-01 7.51115423e-01 8.18590609e-01 7.89335930e-01\n",
      " 8.48253688e-01 7.53515730e-01 7.99496121e-01 9.16652654e-01\n",
      " 9.13919611e-01 9.20971474e-01 8.80142743e-01 9.09367990e-01]\n"
     ]
    }
   ],
   "source": [
    "print(r[-1])"
   ]
  },
  {
   "cell_type": "code",
   "execution_count": 158,
   "id": "846eba50",
   "metadata": {},
   "outputs": [
    {
     "data": {
      "image/png": "[encoded data removed]",
      "text/plain": [
       "<Figure size 720x576 with 1 Axes>"
      ]
     },
     "metadata": {
      "needs_background": "light"
     },
     "output_type": "display_data"
    }
   ],
   "source": [
    "plt.figure( figsize=(10,8) )\n",
    "\n",
    "plt.plot(range(m), np.log(la.norm(r, axis = 1) / la.norm(x) / n) )\n",
    "\n",
    "plt.show()"
   ]
  },
  {
   "cell_type": "code",
   "execution_count": 169,
   "id": "e31865f6",
   "metadata": {},
   "outputs": [
    {
     "data": {
      "text/plain": [
       "4.126091634703686e+160"
      ]
     },
     "execution_count": 169,
     "metadata": {},
     "output_type": "execute_result"
    }
   ],
   "source": [
    "la.det(A- 0.01 * np.eye(1))"
   ]
  },
  {
   "cell_type": "markdown",
   "id": "3e23a7e6",
   "metadata": {},
   "source": [
    "<h1> Спектральные задачи </h1>"
   ]
  },
  {
   "cell_type": "code",
   "execution_count": null,
   "id": "bee8b79a",
   "metadata": {},
   "outputs": [],
   "source": []
  }
 ],
 "metadata": {
  "kernelspec": {
   "display_name": "Python 3",
   "language": "python",
   "name": "python3"
  },
  "language_info": {
   "codemirror_mode": {
    "name": "ipython",
    "version": 3
   },
   "file_extension": ".py",
   "mimetype": "text/x-python",
   "name": "python",
   "nbconvert_exporter": "python",
   "pygments_lexer": "ipython3",
   "version": "3.8.8"
  }
 },
 "nbformat": 4,
 "nbformat_minor": 5
}
