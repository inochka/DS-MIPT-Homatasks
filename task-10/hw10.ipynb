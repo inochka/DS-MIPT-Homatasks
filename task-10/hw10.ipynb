{
 "cells": [
  {
   "cell_type": "markdown",
   "metadata": {},
   "source": [
    "# <a href=\"https://miptstats.github.io/courses/ad_mipt.html\">Phystech@DataScience</a>\n",
    "## Домашнее задание 10\n",
    "\n",
    "**Правила, <font color=\"red\">прочитайте внимательно</font>:**\n",
    "\n",
    "* Выполненную работу нужно отправить телеграм-боту `@miptstats_pds_bot`. Для начала работы с ботом каждый раз отправляйте `/start`. **Работы, присланные иным способом, не принимаются.**\n",
    "* Дедлайн см. в боте. После дедлайна работы не принимаются кроме случаев наличия уважительной причины.\n",
    "* Прислать нужно ноутбук в формате `ipynb`.\n",
    "* Выполнять задание необходимо полностью самостоятельно. **При обнаружении списывания все участники списывания будут сдавать устный зачет.**\n",
    "* Решения, размещенные на каких-либо интернет-ресурсах, не принимаются. Кроме того, публикация решения в открытом доступе может быть приравнена к предоставлении возможности списать.\n",
    "* Для выполнения задания используйте этот ноутбук в качестве основы, ничего не удаляя из него. Можно добавлять необходимое количество ячеек.\n",
    "* Комментарии к решению пишите в markdown-ячейках.\n",
    "* Выполнение задания (ход решения, выводы и пр.) должно быть осуществлено на русском языке.\n",
    "* Если код будет не понятен проверяющему, оценка может быть снижена.\n",
    "* Никакой код из данного задания при проверке запускаться не будет. *Если код студента не выполнен, недописан и т.д., то он не оценивается.*\n",
    "* **Код из рассказанных на занятиях ноутбуков можно использовать без ограничений.**\n",
    "\n",
    "**Правила оформления теоретических задач:**\n",
    "\n",
    "* Решения необходимо прислать одним из следующих способов:\n",
    "  * фотографией в правильной ориентации, где все четко видно, а почерк разборчив,\n",
    "    * отправив ее как файл боту вместе с ноутбуком *или*\n",
    "    * вставив ее в ноутбук посредством `Edit -> Insert Image` (<font color=\"red\">фото, вставленные ссылкой, не принимаются</font>);\n",
    "  * в виде $\\LaTeX$ в markdown-ячейках.\n",
    "* Решения не проверяются, если какое-то требование не выполнено. Особенно внимательно все проверьте в случае выбора второго пункта (вставки фото в ноутбук). <font color=\"red\"><b>Неправильно вставленные фотографии могут не передаться при отправке.</b></font> Для проверки попробуйте переместить `ipynb` в другую папку и открыть его там.\n",
    "* В решениях поясняйте, чем вы пользуетесь, хотя бы кратко. Например, если пользуетесь независимостью, то достаточно подписи вида \"*X и Y незав.*\"\n",
    "* Решение, в котором есть только ответ, и отсутствуют вычисления, оценивается в 0 баллов.\n",
    "\n",
    "**Баллы за задание:**\n",
    "\n",
    "<b><font color=\"blue\">Легкая часть</font></b> (достаточно на \"хор\"):\n",
    "* Задача 1 &mdash;  15 баллов\n",
    "* Задача 2 &mdash;  40 баллов\n",
    "\n",
    "<b><font color=\"orange\">Cложная часть</font></b> (необходимо на \"отл\"):\n",
    "* Задача 2 &mdash;  50 баллов\n",
    "* Задача 4 &mdash;  40 баллов\n",
    "\n",
    "\n",
    "\n",
    "\n",
    "\n",
    "-----"
   ]
  },
  {
   "cell_type": "code",
   "execution_count": 1,
   "metadata": {},
   "outputs": [],
   "source": [
    "import numpy as np\n",
    "import pandas as pd\n",
    "import matplotlib.pyplot as plt\n",
    "import seaborn as sns\n",
    "\n",
    "sns.set(style='whitegrid', font_scale=1.3, palette='Set2')"
   ]
  },
  {
   "cell_type": "markdown",
   "metadata": {},
   "source": [
    "При решении задания используйте `sklearn`. Пропишите сюда необходимые импорты"
   ]
  },
  {
   "cell_type": "code",
   "execution_count": 2,
   "metadata": {},
   "outputs": [],
   "source": [
    "import scipy.stats as sps\n",
    "from IPython.display import display, Markdown\n",
    "\n",
    "import sklearn\n",
    "\n",
    "\n",
    "from sklearn.model_selection import train_test_split\n",
    "from sklearn.preprocessing import LabelEncoder, StandardScaler\n",
    "\n",
    "\n",
    "from sklearn.metrics import accuracy_score, mean_squared_error\n",
    "from sklearn.tree import DecisionTreeClassifier, DecisionTreeRegressor, export_graphviz\n",
    "from sklearn.ensemble import RandomForestClassifier, RandomForestRegressor\n",
    "\n",
    "#import graphviz\n",
    "from tqdm import tqdm_notebook"
   ]
  },
  {
   "cell_type": "markdown",
   "metadata": {},
   "source": [
    "---\n",
    "## Задача 1\n",
    "\n",
    "Перед обучением линейной регрессии вы могли совершать некоторые преобразования над признаками. Какие преобразования стоит совершить перед обучением решающего дерева?\n",
    "\n",
    "В частности, ответьте на вопрос, имеет ли смысл примененять следующие преобразования:\n",
    "* монотонные функции от одного признака;\n",
    "* немонотонные функции от одного признака;\n",
    "* линейные функции от нескольких признаков;\n",
    "* нелинейные функции от нескольких признаков;\n",
    "* стандартизация признаков;\n",
    "* преобразования категориальных признаков.\n",
    "\n",
    "Например, вместо/дополнительно с признаком $x_j$ рассматривать признак $f(x_j)$, для указанных выше типов функций."
   ]
  },
  {
   "cell_type": "markdown",
   "metadata": {},
   "source": [
    "1) Монотонные функции от одного признака почти не меняют решающее дерево: это следует как из построения, так и из реальных экспериментов\n",
    "\n",
    "2) Стандартизация признаков тоже почти не меняет дерева, объяснения как и в п. 1\n",
    "\n",
    "3) преобразования кат признаков применять полезно, потому что работа дерева основана на отношении порядка. А между категориальными признаками отношения порядка нет.\n",
    "\n",
    "4) Линейные / нелинейные преобразования - вообще хз, имеет ли сиысл и что это даст. от нескольких признаков - вообще хз. От одного - мб, чтобы как-то сгладить данные / улучшить их размещение.\n",
    "\n",
    "5) В целом, помня специфику работы решающего дерева (делает ступеньки), лучше всеми правдами и неправдами повернуть поверхности, разделяющие разные группы точек, становились (кусочно) параллельны осям координат.\n",
    "\n",
    "Можно более подробно почитать про это по ссылке:\n",
    "\n",
    "https://rsyi.github.io/feature-transformation-tree/"
   ]
  },
  {
   "cell_type": "markdown",
   "metadata": {},
   "source": [
    "## ## Задача 2\n",
    "\n",
    "### 1. Загрузка и предобработка данных.\n"
   ]
  },
  {
   "cell_type": "markdown",
   "metadata": {},
   "source": [
    "\n",
    "\n",
    "Скачайте [данные](https://www.kaggle.com/datasets/sayansh001/crystal-structure-classification) по классификации кристаллических решеток. Целевой переменной в этой задаче является `Lowest distortion`. С сырыми данными и более подробным описанием задачи можно ознакомиться также [здесь](https://www.kaggle.com/datasets/sayansh001/crystal-structure-classification).\n"
   ]
  },
  {
   "cell_type": "code",
   "execution_count": 3,
   "metadata": {
    "scrolled": true
   },
   "outputs": [
    {
     "data": {
      "text/html": [
       "<div>\n",
       "<style scoped>\n",
       "    .dataframe tbody tr th:only-of-type {\n",
       "        vertical-align: middle;\n",
       "    }\n",
       "\n",
       "    .dataframe tbody tr th {\n",
       "        vertical-align: top;\n",
       "    }\n",
       "\n",
       "    .dataframe thead th {\n",
       "        text-align: right;\n",
       "    }\n",
       "</style>\n",
       "<table border=\"1\" class=\"dataframe\">\n",
       "  <thead>\n",
       "    <tr style=\"text-align: right;\">\n",
       "      <th></th>\n",
       "      <th>Compound</th>\n",
       "      <th>A</th>\n",
       "      <th>B</th>\n",
       "      <th>In literature</th>\n",
       "      <th>v(A)</th>\n",
       "      <th>v(B)</th>\n",
       "      <th>r(AXII)(Å)</th>\n",
       "      <th>r(AVI)(Å)</th>\n",
       "      <th>r(BVI)(Å)</th>\n",
       "      <th>EN(A)</th>\n",
       "      <th>EN(B)</th>\n",
       "      <th>l(A-O)(Å)</th>\n",
       "      <th>l(B-O)(Å)</th>\n",
       "      <th>ΔENR</th>\n",
       "      <th>tG</th>\n",
       "      <th>τ</th>\n",
       "      <th>μ</th>\n",
       "      <th>Lowest distortion</th>\n",
       "    </tr>\n",
       "  </thead>\n",
       "  <tbody>\n",
       "    <tr>\n",
       "      <th>0</th>\n",
       "      <td>Ac2O3</td>\n",
       "      <td>Ac</td>\n",
       "      <td>Ac</td>\n",
       "      <td>False</td>\n",
       "      <td>0</td>\n",
       "      <td>0</td>\n",
       "      <td>1.12</td>\n",
       "      <td>1.12</td>\n",
       "      <td>1.12</td>\n",
       "      <td>1.1</td>\n",
       "      <td>1.10</td>\n",
       "      <td>0.0</td>\n",
       "      <td>0.000000</td>\n",
       "      <td>-3.248000</td>\n",
       "      <td>0.707107</td>\n",
       "      <td>-</td>\n",
       "      <td>0.800000</td>\n",
       "      <td>cubic</td>\n",
       "    </tr>\n",
       "    <tr>\n",
       "      <th>1</th>\n",
       "      <td>AcAgO3</td>\n",
       "      <td>Ac</td>\n",
       "      <td>Ag</td>\n",
       "      <td>False</td>\n",
       "      <td>0</td>\n",
       "      <td>0</td>\n",
       "      <td>1.12</td>\n",
       "      <td>1.12</td>\n",
       "      <td>0.95</td>\n",
       "      <td>1.1</td>\n",
       "      <td>1.93</td>\n",
       "      <td>0.0</td>\n",
       "      <td>2.488353</td>\n",
       "      <td>-2.565071</td>\n",
       "      <td>0.758259</td>\n",
       "      <td>-</td>\n",
       "      <td>0.678571</td>\n",
       "      <td>orthorhombic</td>\n",
       "    </tr>\n",
       "    <tr>\n",
       "      <th>2</th>\n",
       "      <td>AcAlO3</td>\n",
       "      <td>Ac</td>\n",
       "      <td>Al</td>\n",
       "      <td>False</td>\n",
       "      <td>0</td>\n",
       "      <td>0</td>\n",
       "      <td>1.12</td>\n",
       "      <td>1.12</td>\n",
       "      <td>0.54</td>\n",
       "      <td>1.1</td>\n",
       "      <td>1.61</td>\n",
       "      <td>0.0</td>\n",
       "      <td>1.892894</td>\n",
       "      <td>-1.846714</td>\n",
       "      <td>0.918510</td>\n",
       "      <td>-</td>\n",
       "      <td>0.385714</td>\n",
       "      <td>cubic</td>\n",
       "    </tr>\n",
       "    <tr>\n",
       "      <th>3</th>\n",
       "      <td>AcAsO3</td>\n",
       "      <td>Ac</td>\n",
       "      <td>As</td>\n",
       "      <td>False</td>\n",
       "      <td>0</td>\n",
       "      <td>0</td>\n",
       "      <td>1.12</td>\n",
       "      <td>1.12</td>\n",
       "      <td>0.52</td>\n",
       "      <td>1.1</td>\n",
       "      <td>2.18</td>\n",
       "      <td>0.0</td>\n",
       "      <td>1.932227</td>\n",
       "      <td>-1.577429</td>\n",
       "      <td>0.928078</td>\n",
       "      <td>-</td>\n",
       "      <td>0.371429</td>\n",
       "      <td>orthorhombic</td>\n",
       "    </tr>\n",
       "    <tr>\n",
       "      <th>4</th>\n",
       "      <td>AcAuO3</td>\n",
       "      <td>Ac</td>\n",
       "      <td>Au</td>\n",
       "      <td>False</td>\n",
       "      <td>0</td>\n",
       "      <td>0</td>\n",
       "      <td>1.12</td>\n",
       "      <td>1.12</td>\n",
       "      <td>0.93</td>\n",
       "      <td>1.1</td>\n",
       "      <td>2.54</td>\n",
       "      <td>0.0</td>\n",
       "      <td>2.313698</td>\n",
       "      <td>-2.279786</td>\n",
       "      <td>0.764768</td>\n",
       "      <td>-</td>\n",
       "      <td>0.664286</td>\n",
       "      <td>orthorhombic</td>\n",
       "    </tr>\n",
       "  </tbody>\n",
       "</table>\n",
       "</div>"
      ],
      "text/plain": [
       "  Compound   A   B  In literature v(A) v(B)  r(AXII)(Å)  r(AVI)(Å)  r(BVI)(Å)  \\\n",
       "0    Ac2O3  Ac  Ac          False    0    0        1.12       1.12       1.12   \n",
       "1   AcAgO3  Ac  Ag          False    0    0        1.12       1.12       0.95   \n",
       "2   AcAlO3  Ac  Al          False    0    0        1.12       1.12       0.54   \n",
       "3   AcAsO3  Ac  As          False    0    0        1.12       1.12       0.52   \n",
       "4   AcAuO3  Ac  Au          False    0    0        1.12       1.12       0.93   \n",
       "\n",
       "   EN(A)  EN(B)  l(A-O)(Å)  l(B-O)(Å)      ΔENR        tG  τ         μ  \\\n",
       "0    1.1   1.10        0.0   0.000000 -3.248000  0.707107  -  0.800000   \n",
       "1    1.1   1.93        0.0   2.488353 -2.565071  0.758259  -  0.678571   \n",
       "2    1.1   1.61        0.0   1.892894 -1.846714  0.918510  -  0.385714   \n",
       "3    1.1   2.18        0.0   1.932227 -1.577429  0.928078  -  0.371429   \n",
       "4    1.1   2.54        0.0   2.313698 -2.279786  0.764768  -  0.664286   \n",
       "\n",
       "  Lowest distortion  \n",
       "0             cubic  \n",
       "1      orthorhombic  \n",
       "2             cubic  \n",
       "3      orthorhombic  \n",
       "4      orthorhombic  "
      ]
     },
     "execution_count": 3,
     "metadata": {},
     "output_type": "execute_result"
    }
   ],
   "source": [
    "data = pd.read_csv(\"Crystal_structure.csv\")\n",
    "data.head()"
   ]
  },
  {
   "cell_type": "code",
   "execution_count": 4,
   "metadata": {},
   "outputs": [
    {
     "data": {
      "text/plain": [
       "array(['Compound', 'A', 'B', 'In literature', 'v(A)', 'v(B)',\n",
       "       'r(AXII)(Å)', 'r(AVI)(Å)', 'r(BVI)(Å)', 'EN(A)', 'EN(B)',\n",
       "       'l(A-O)(Å)', 'l(B-O)(Å)', 'ΔENR', 'tG', 'τ', 'μ',\n",
       "       'Lowest distortion'], dtype=object)"
      ]
     },
     "execution_count": 4,
     "metadata": {},
     "output_type": "execute_result"
    }
   ],
   "source": [
    "data.columns.values"
   ]
  },
  {
   "cell_type": "markdown",
   "metadata": {},
   "source": [
    "Сделаем предобработку данных."
   ]
  },
  {
   "cell_type": "code",
   "execution_count": 5,
   "metadata": {},
   "outputs": [],
   "source": [
    "# уберем признаки, которые нам не нужны (подробнее можете почиать во вкладке 'Code' на странице датасета)\n",
    "#\"τ\"\n",
    "data = data.drop([\"In literature\", \"Compound\", \"τ\"], axis=1)\n",
    "# убираем объекты, для которых неизвестен таргет\n",
    "data = data.drop(data[data[\"Lowest distortion\"] == \"-\"].index).reset_index(drop=True)\n",
    "# закодируем целевую переменную числами\n",
    "data['Lowest distortion'] = LabelEncoder().fit_transform(data['Lowest distortion'])\n",
    "# закодируем категориальные признаки числами\n",
    "data['A'] = LabelEncoder().fit_transform(data['A'])\n",
    "data['B'] = LabelEncoder().fit_transform(data['B'])\n",
    "# обработаем пропуски\n",
    "for i in data.columns:\n",
    "    column = data[i].values\n",
    "    for k in range(len(column)):\n",
    "        if column[k] == '-':\n",
    "            column[k] = 0\n",
    "    data[i] = column"
   ]
  },
  {
   "cell_type": "code",
   "execution_count": 6,
   "metadata": {},
   "outputs": [
    {
     "data": {
      "text/html": [
       "<div>\n",
       "<style scoped>\n",
       "    .dataframe tbody tr th:only-of-type {\n",
       "        vertical-align: middle;\n",
       "    }\n",
       "\n",
       "    .dataframe tbody tr th {\n",
       "        vertical-align: top;\n",
       "    }\n",
       "\n",
       "    .dataframe thead th {\n",
       "        text-align: right;\n",
       "    }\n",
       "</style>\n",
       "<table border=\"1\" class=\"dataframe\">\n",
       "  <thead>\n",
       "    <tr style=\"text-align: right;\">\n",
       "      <th></th>\n",
       "      <th>A</th>\n",
       "      <th>B</th>\n",
       "      <th>v(A)</th>\n",
       "      <th>v(B)</th>\n",
       "      <th>r(AXII)(Å)</th>\n",
       "      <th>r(AVI)(Å)</th>\n",
       "      <th>r(BVI)(Å)</th>\n",
       "      <th>EN(A)</th>\n",
       "      <th>EN(B)</th>\n",
       "      <th>l(A-O)(Å)</th>\n",
       "      <th>l(B-O)(Å)</th>\n",
       "      <th>ΔENR</th>\n",
       "      <th>tG</th>\n",
       "      <th>μ</th>\n",
       "      <th>Lowest distortion</th>\n",
       "    </tr>\n",
       "  </thead>\n",
       "  <tbody>\n",
       "    <tr>\n",
       "      <th>0</th>\n",
       "      <td>0</td>\n",
       "      <td>0</td>\n",
       "      <td>0</td>\n",
       "      <td>0</td>\n",
       "      <td>1.12</td>\n",
       "      <td>1.12</td>\n",
       "      <td>1.12</td>\n",
       "      <td>1.1</td>\n",
       "      <td>1.10</td>\n",
       "      <td>0.0</td>\n",
       "      <td>0.000000</td>\n",
       "      <td>-3.248000</td>\n",
       "      <td>0.707107</td>\n",
       "      <td>0.800000</td>\n",
       "      <td>0</td>\n",
       "    </tr>\n",
       "    <tr>\n",
       "      <th>1</th>\n",
       "      <td>0</td>\n",
       "      <td>1</td>\n",
       "      <td>0</td>\n",
       "      <td>0</td>\n",
       "      <td>1.12</td>\n",
       "      <td>1.12</td>\n",
       "      <td>0.95</td>\n",
       "      <td>1.1</td>\n",
       "      <td>1.93</td>\n",
       "      <td>0.0</td>\n",
       "      <td>2.488353</td>\n",
       "      <td>-2.565071</td>\n",
       "      <td>0.758259</td>\n",
       "      <td>0.678571</td>\n",
       "      <td>1</td>\n",
       "    </tr>\n",
       "    <tr>\n",
       "      <th>2</th>\n",
       "      <td>0</td>\n",
       "      <td>2</td>\n",
       "      <td>0</td>\n",
       "      <td>0</td>\n",
       "      <td>1.12</td>\n",
       "      <td>1.12</td>\n",
       "      <td>0.54</td>\n",
       "      <td>1.1</td>\n",
       "      <td>1.61</td>\n",
       "      <td>0.0</td>\n",
       "      <td>1.892894</td>\n",
       "      <td>-1.846714</td>\n",
       "      <td>0.918510</td>\n",
       "      <td>0.385714</td>\n",
       "      <td>0</td>\n",
       "    </tr>\n",
       "    <tr>\n",
       "      <th>3</th>\n",
       "      <td>0</td>\n",
       "      <td>3</td>\n",
       "      <td>0</td>\n",
       "      <td>0</td>\n",
       "      <td>1.12</td>\n",
       "      <td>1.12</td>\n",
       "      <td>0.52</td>\n",
       "      <td>1.1</td>\n",
       "      <td>2.18</td>\n",
       "      <td>0.0</td>\n",
       "      <td>1.932227</td>\n",
       "      <td>-1.577429</td>\n",
       "      <td>0.928078</td>\n",
       "      <td>0.371429</td>\n",
       "      <td>1</td>\n",
       "    </tr>\n",
       "    <tr>\n",
       "      <th>4</th>\n",
       "      <td>0</td>\n",
       "      <td>4</td>\n",
       "      <td>0</td>\n",
       "      <td>0</td>\n",
       "      <td>1.12</td>\n",
       "      <td>1.12</td>\n",
       "      <td>0.93</td>\n",
       "      <td>1.1</td>\n",
       "      <td>2.54</td>\n",
       "      <td>0.0</td>\n",
       "      <td>2.313698</td>\n",
       "      <td>-2.279786</td>\n",
       "      <td>0.764768</td>\n",
       "      <td>0.664286</td>\n",
       "      <td>1</td>\n",
       "    </tr>\n",
       "  </tbody>\n",
       "</table>\n",
       "</div>"
      ],
      "text/plain": [
       "   A  B v(A) v(B)  r(AXII)(Å)  r(AVI)(Å)  r(BVI)(Å)  EN(A)  EN(B)  l(A-O)(Å)  \\\n",
       "0  0  0    0    0        1.12       1.12       1.12    1.1   1.10        0.0   \n",
       "1  0  1    0    0        1.12       1.12       0.95    1.1   1.93        0.0   \n",
       "2  0  2    0    0        1.12       1.12       0.54    1.1   1.61        0.0   \n",
       "3  0  3    0    0        1.12       1.12       0.52    1.1   2.18        0.0   \n",
       "4  0  4    0    0        1.12       1.12       0.93    1.1   2.54        0.0   \n",
       "\n",
       "   l(B-O)(Å)      ΔENR        tG         μ  Lowest distortion  \n",
       "0   0.000000 -3.248000  0.707107  0.800000                  0  \n",
       "1   2.488353 -2.565071  0.758259  0.678571                  1  \n",
       "2   1.892894 -1.846714  0.918510  0.385714                  0  \n",
       "3   1.932227 -1.577429  0.928078  0.371429                  1  \n",
       "4   2.313698 -2.279786  0.764768  0.664286                  1  "
      ]
     },
     "execution_count": 6,
     "metadata": {},
     "output_type": "execute_result"
    }
   ],
   "source": [
    "data.head()"
   ]
  },
  {
   "cell_type": "markdown",
   "metadata": {},
   "source": [
    "### 2. Обучение модели\n"
   ]
  },
  {
   "cell_type": "markdown",
   "metadata": {},
   "source": [
    "Создайте массив признаков и массив таргета."
   ]
  },
  {
   "cell_type": "code",
   "execution_count": 7,
   "metadata": {},
   "outputs": [
    {
     "name": "stdout",
     "output_type": "stream",
     "text": [
      "[[0 0 '0' ... -3.248 0.707106781 0.8]\n",
      " [0 1 '0' ... -2.565071429 0.758259187 0.678571429]\n",
      " [0 2 '0' ... -1.846714286 0.918509839 0.385714286]\n",
      " ...\n",
      " [72 70 0 ... -2.626821429 0.689052991 0.678571429]\n",
      " [72 71 0 ... -2.03575 0.756670341 0.528571429]\n",
      " [72 72 0 ... -2.097821429 0.76380874 0.514285714]] [0 1 0 ... 1 0 0]\n"
     ]
    }
   ],
   "source": [
    "X = data.loc[:, data.columns != \"Lowest distortion\"].values\n",
    "y = data.loc[:, \"Lowest distortion\"].values\n",
    "print(X,y)"
   ]
  },
  {
   "cell_type": "markdown",
   "metadata": {},
   "source": [
    "Обучите модель решающего дерева."
   ]
  },
  {
   "cell_type": "markdown",
   "metadata": {},
   "source": [
    "random_state = число, с помощью которого функции генерят случайные разбиения. Одно и то же значение приводит к воспроизводимым результатам."
   ]
  },
  {
   "cell_type": "code",
   "execution_count": 8,
   "metadata": {},
   "outputs": [],
   "source": [
    "X_train, X_test, y_train, y_test = train_test_split(X,y, test_size = 0.3, random_state = 145)"
   ]
  },
  {
   "cell_type": "code",
   "execution_count": 9,
   "metadata": {
    "scrolled": false
   },
   "outputs": [
    {
     "name": "stdout",
     "output_type": "stream",
     "text": [
      "[[71 14 0 ... -3.971107143 0.529754266 1.192857143]\n",
      " [58 9 0 ... -2.566285714 0.630503547 0.714285714]\n",
      " [32 21 0 ... -2.581928571 0.691997662 0.671428571]\n",
      " ...\n",
      " [20 47 '0' ... -1.981178571 0.64051825 0.592857143]\n",
      " [22 50 '2' ... -1.346 0.753068722 0.428571429]\n",
      " [56 47 '0' ... -2.083285714 0.700765016 0.592857143]] [0 2 0 ... 1 0 1]\n"
     ]
    }
   ],
   "source": [
    "print(X_train, y_train)"
   ]
  },
  {
   "cell_type": "markdown",
   "metadata": {},
   "source": [
    "#### Решающее дерево"
   ]
  },
  {
   "cell_type": "code",
   "execution_count": 10,
   "metadata": {},
   "outputs": [
    {
     "data": {
      "text/plain": [
       "DecisionTreeClassifier(random_state=56)"
      ]
     },
     "execution_count": 10,
     "metadata": {},
     "output_type": "execute_result"
    }
   ],
   "source": [
    "clf = DecisionTreeClassifier(random_state = 56)\n",
    "clf.fit(X_train, y_train)"
   ]
  },
  {
   "cell_type": "markdown",
   "metadata": {},
   "source": [
    "Сделайте предсказание для тестовой выборки."
   ]
  },
  {
   "cell_type": "code",
   "execution_count": 11,
   "metadata": {
    "vscode": {
     "languageId": "plaintext"
    }
   },
   "outputs": [
    {
     "name": "stdout",
     "output_type": "stream",
     "text": [
      "2-Норма ошибки для решающео дерева:  31.73326330524486\n"
     ]
    }
   ],
   "source": [
    "predictions = clf.predict(X_test)\n",
    "accuracy_score(predictions, y_test)\n",
    "print(\"2-Норма ошибки для решающео дерева: \", np.linalg.norm(predictions - y_test))"
   ]
  },
  {
   "cell_type": "markdown",
   "metadata": {},
   "source": [
    "Создайте массив, показывающий успех или не успех модели (1 если модель угадала класс, 0 если не угадала)."
   ]
  },
  {
   "cell_type": "code",
   "execution_count": 12,
   "metadata": {},
   "outputs": [],
   "source": [
    "# successes\n",
    "sss = 1 - np.abs(predictions - y_test)"
   ]
  },
  {
   "cell_type": "markdown",
   "metadata": {},
   "source": [
    "Вы получили выборку из распределения $Bern(\\theta)$. Постройте доверительный интервал для $\\theta$."
   ]
  },
  {
   "cell_type": "code",
   "execution_count": 13,
   "metadata": {
    "scrolled": true
   },
   "outputs": [
    {
     "name": "stdout",
     "output_type": "stream",
     "text": [
      "В тренировочной выборке  3693  элементов.\n"
     ]
    }
   ],
   "source": [
    "print(\"В тренировочной выборке \", np.size(y_train), \" элементов.\")"
   ]
  },
  {
   "cell_type": "markdown",
   "metadata": {},
   "source": [
    "Доверительный интервал для уровня $\\alpha$ получачется, как обычно, по ЦПТ, а именно для выборки $(X_1, \\ldots, X_n)$ из биномиального распределения при больших $n$:\n",
    "\n",
    "$$\n",
    "     |\\theta - \\hat\\theta| \\leq \\delta = \\frac{\\hat{\\sigma} \\left| z_{\\alpha/2} \\right|}{\\sqrt{n}}, \\qquad \\hat{\\sigma}^2 = \\frac{n}{n-1} \\left( \\overline{X^2} - \\overline{X}^2 \\right),\n",
    "$$\n",
    "\n",
    "где $z_{\\alpha/2}$ - это $\\frac{\\alpha}{2}$-квантиль нормального распределения.  "
   ]
  },
  {
   "cell_type": "markdown",
   "metadata": {},
   "source": [
    " "
   ]
  },
  {
   "cell_type": "code",
   "execution_count": 14,
   "metadata": {},
   "outputs": [],
   "source": [
    "# считаем нужные параметры\n",
    "alpha = 0.05\n",
    "n = np.size(sss)\n",
    "delta = np.sqrt( 1 / (n - 1) ) * np.std(sss) * np.abs( sps.norm().ppf(alpha/2) )\n",
    "theta = np.mean(sss)"
   ]
  },
  {
   "cell_type": "code",
   "execution_count": 15,
   "metadata": {
    "scrolled": true
   },
   "outputs": [
    {
     "name": "stdout",
     "output_type": "stream",
     "text": [
      "Оценка параметра \\theta:  0.601\n",
      "Погрешность оценки параметра \\theta:  0.034\n"
     ]
    }
   ],
   "source": [
    "print(r'Оценка параметра \\theta: ', round(theta, 3))\n",
    "print(r\"Погрешность оценки параметра \\theta: \", round(delta, 3))"
   ]
  },
  {
   "cell_type": "markdown",
   "metadata": {},
   "source": [
    "#### Случайный лес"
   ]
  },
  {
   "cell_type": "markdown",
   "metadata": {},
   "source": [
    "Повторите все шаги для случайного леса. Сравните полученные интервалы."
   ]
  },
  {
   "cell_type": "code",
   "execution_count": 16,
   "metadata": {},
   "outputs": [
    {
     "data": {
      "text/plain": [
       "RandomForestRegressor(n_estimators=40)"
      ]
     },
     "execution_count": 16,
     "metadata": {},
     "output_type": "execute_result"
    }
   ],
   "source": [
    "n_estimators = 40\n",
    "model = RandomForestRegressor(n_estimators=n_estimators)\n",
    "model.fit(X_train, y_train)"
   ]
  },
  {
   "cell_type": "code",
   "execution_count": 17,
   "metadata": {
    "scrolled": false
   },
   "outputs": [
    {
     "name": "stdout",
     "output_type": "stream",
     "text": [
      "[0.8   0.125 1.075 ... 0.825 0.125 0.   ]\n",
      "2-Норма ошибки для случайного леса:  23.898143233314173\n"
     ]
    }
   ],
   "source": [
    "predictions = model.predict(X_test)\n",
    "print(predictions)\n",
    "#accuracy_score(predictions, y_test)\n",
    "print(\"2-Норма ошибки для случайного леса: \", np.linalg.norm(predictions - y_test))"
   ]
  },
  {
   "cell_type": "markdown",
   "metadata": {},
   "source": [
    "Интересно также посмотреть на зависимость ошибки от числа деревьев в лесу."
   ]
  },
  {
   "cell_type": "code",
   "execution_count": 18,
   "metadata": {},
   "outputs": [
    {
     "name": "stdout",
     "output_type": "stream",
     "text": [
      "32.83291031876401\n",
      "27.60434748368452\n",
      "27.874719729532707\n",
      "26.514147167125703\n",
      "25.81394971715874\n",
      "25.496187078768376\n",
      "25.32644016494563\n",
      "25.224306234265395\n",
      "24.78549954417544\n",
      "24.825994441310907\n",
      "24.65463931331022\n",
      "24.518417114034452\n",
      "24.09731257573718\n",
      "24.310176755374503\n",
      "24.4613073149322\n",
      "24.17764657178196\n",
      "23.80369544745137\n",
      "24.06889545440467\n",
      "23.951069696616646\n",
      "24.354876308452074\n",
      "24.57138242889724\n",
      "23.91799004795102\n",
      "24.141047411666403\n",
      "23.8397427279183\n",
      "24.210179677152336\n",
      "23.818346069100922\n",
      "24.079913821628686\n",
      "23.959361853107918\n",
      "23.77145441878356\n",
      "24.048931600200266\n",
      "24.09750830163887\n",
      "24.170637694576865\n",
      "23.96707260659216\n",
      "23.784117727075003\n",
      "23.901191158088963\n",
      "23.973590150233193\n",
      "23.852587824928897\n",
      "23.799587393709228\n",
      "23.893886607781283\n",
      "23.880679952631162\n",
      "23.83507181494441\n",
      "23.932776223785186\n",
      "23.919585400069025\n",
      "23.629719345849974\n",
      "23.682290096135784\n",
      "23.555278266569065\n",
      "23.778383006747386\n",
      "23.939784486289767\n",
      "23.92295526103518\n",
      "23.857066039226197\n",
      "23.70989602571409\n",
      "23.676107410851497\n",
      "23.72166387778588\n",
      "23.903361966591614\n",
      "23.71300859991208\n",
      "23.72497338765416\n",
      "23.64444354769656\n",
      "23.87645320888154\n",
      "23.868384924589247\n",
      "23.826997992473437\n",
      "23.79169772018156\n",
      "23.997989206434212\n",
      "23.83046697953242\n",
      "23.794976943346153\n",
      "23.7085109427872\n",
      "23.73003970088742\n",
      "23.634991672635735\n",
      "23.726126227092884\n",
      "23.727855615607194\n",
      "24.093487137585118\n",
      "23.939465249442808\n",
      "23.774654195145835\n",
      "23.482828516355138\n",
      "23.675058612222784\n",
      "23.81237400083317\n",
      "23.783381555765924\n",
      "23.879652722221863\n",
      "23.556421560005436\n",
      "23.808481157689418\n",
      "23.617168013968147\n",
      "23.411906375998353\n",
      "23.756523259570425\n",
      "23.670394163977637\n",
      "23.876115210624615\n",
      "23.743782285723434\n",
      "23.879763490887978\n",
      "23.627915107095223\n",
      "23.671193743095017\n",
      "23.69834464571529\n",
      "23.619245657558555\n",
      "23.54741213557906\n",
      "23.666625620099836\n",
      "23.790183463538323\n",
      "23.72913536345834\n",
      "23.747543392412513\n",
      "23.751943908019875\n",
      "23.722971150070023\n",
      "23.599973880924985\n",
      "23.809291441430272\n",
      "23.55340739680779\n"
     ]
    }
   ],
   "source": [
    "N = 100\n",
    "errors = np.empty(N + 1)\n",
    "\n",
    "for i in range(1, N+1):\n",
    "    model = RandomForestRegressor(n_estimators=i)\n",
    "    model.fit(X_train, y_train)\n",
    "    errors[i] = np.linalg.norm(model.predict(X_test) - y_test)\n",
    "    print(errors[i])"
   ]
  },
  {
   "cell_type": "code",
   "execution_count": 19,
   "metadata": {
    "scrolled": true
   },
   "outputs": [
    {
     "data": {
      "image/png": "[encoded data removed]",
      "text/plain": [
       "<Figure size 720x576 with 1 Axes>"
      ]
     },
     "metadata": {},
     "output_type": "display_data"
    }
   ],
   "source": [
    "plt.figure(figsize = (10,8))\n",
    "\n",
    "plt.plot(np.linspace(1, N+1, N), errors[1:N+1])\n",
    "\n",
    "plt.title(\"График зависимости 2-нормы ошибки предсказания от числа деревьев в случайном лесу\")\n",
    "\n",
    "plt.show()"
   ]
  },
  {
   "cell_type": "markdown",
   "metadata": {},
   "source": [
    "Видим, что чем больше деревьев, тем лучше предсказательная способность. Но по факту, 20 деревьев для рассматривемой выборки уже ок.. Поэтому, столько и выберем."
   ]
  },
  {
   "cell_type": "code",
   "execution_count": 20,
   "metadata": {},
   "outputs": [],
   "source": [
    "n_estimators = 20\n",
    "model = RandomForestRegressor(n_estimators=n_estimators)\n",
    "model.fit(X_train, y_train)\n",
    "sss = 1 - np.abs(predictions - y_test)"
   ]
  },
  {
   "cell_type": "code",
   "execution_count": 21,
   "metadata": {},
   "outputs": [],
   "source": [
    "# считаем нужные параметры\n",
    "alpha = 0.05\n",
    "n = np.size(sss)\n",
    "delta = np.sqrt( 1 / (n - 1) ) * np.std(sss) * np.abs( sps.norm().ppf(alpha/2) )\n",
    "theta = np.mean(sss)"
   ]
  },
  {
   "cell_type": "code",
   "execution_count": 22,
   "metadata": {},
   "outputs": [
    {
     "name": "stdout",
     "output_type": "stream",
     "text": [
      "Оценка параметра \\theta:  0.622\n",
      "Погрешность оценки параметра \\theta:  0.023\n"
     ]
    }
   ],
   "source": [
    "print(r'Оценка параметра \\theta: ', round(theta, 3))\n",
    "print(r\"Погрешность оценки параметра \\theta: \", round(delta, 3))"
   ]
  },
  {
   "cell_type": "markdown",
   "metadata": {},
   "source": [
    "**Выводы:** Ну, решающее дерево - хорошо, а случайный лес - лучше. Реально дал улучшение на 30%. очень даже прилично. Нормас!"
   ]
  },
  {
   "cell_type": "markdown",
   "metadata": {},
   "source": [
    "## Задача 3\n",
    "\n",
    "Рассмотрим данные из <a href='https://miptstats.github.io/courses/ad_mipt/hw8.html' target=\"_blank\">предыдущего домашнего задания</a>. Скачайте данные и разделите их на три части &mdash; обучающую, валидационную и тестовую в соотношении 3:1:1."
   ]
  },
  {
   "cell_type": "markdown",
   "metadata": {},
   "source": [
    "Выполните необходимые преобразования признаков.\n",
    "\n",
    "*Замечание.* Если в валидационной и/или тестовой частях есть \"большие\" выбросы, их стоит убрать. Наша модель не должна пытаться их предсказать, но в то же время выбросы вносят существенный вклад в значение метрики. "
   ]
  },
  {
   "cell_type": "code",
   "execution_count": 23,
   "metadata": {
    "scrolled": true
   },
   "outputs": [
    {
     "data": {
      "text/html": [
       "<div>\n",
       "<style scoped>\n",
       "    .dataframe tbody tr th:only-of-type {\n",
       "        vertical-align: middle;\n",
       "    }\n",
       "\n",
       "    .dataframe tbody tr th {\n",
       "        vertical-align: top;\n",
       "    }\n",
       "\n",
       "    .dataframe thead th {\n",
       "        text-align: right;\n",
       "    }\n",
       "</style>\n",
       "<table border=\"1\" class=\"dataframe\">\n",
       "  <thead>\n",
       "    <tr style=\"text-align: right;\">\n",
       "      <th></th>\n",
       "      <th>Unnamed: 0</th>\n",
       "      <th>0</th>\n",
       "      <th>1</th>\n",
       "      <th>2</th>\n",
       "      <th>3</th>\n",
       "      <th>4</th>\n",
       "      <th>5</th>\n",
       "      <th>6</th>\n",
       "      <th>7</th>\n",
       "      <th>8</th>\n",
       "      <th>...</th>\n",
       "      <th>292</th>\n",
       "      <th>293</th>\n",
       "      <th>294</th>\n",
       "      <th>295</th>\n",
       "      <th>296</th>\n",
       "      <th>297</th>\n",
       "      <th>298</th>\n",
       "      <th>299</th>\n",
       "      <th>pubchem_id</th>\n",
       "      <th>Eat</th>\n",
       "    </tr>\n",
       "  </thead>\n",
       "  <tbody>\n",
       "    <tr>\n",
       "      <th>0</th>\n",
       "      <td>0</td>\n",
       "      <td>-54.825075</td>\n",
       "      <td>-0.835719</td>\n",
       "      <td>45.240515</td>\n",
       "      <td>-22.585658</td>\n",
       "      <td>1.450320</td>\n",
       "      <td>-16.223986</td>\n",
       "      <td>12.376342</td>\n",
       "      <td>13.424011</td>\n",
       "      <td>-4.923189</td>\n",
       "      <td>...</td>\n",
       "      <td>-0.023466</td>\n",
       "      <td>-0.066633</td>\n",
       "      <td>0.030779</td>\n",
       "      <td>-0.036064</td>\n",
       "      <td>-0.008572</td>\n",
       "      <td>0.011805</td>\n",
       "      <td>-0.036215</td>\n",
       "      <td>0.052180</td>\n",
       "      <td>25004</td>\n",
       "      <td>-19.013763</td>\n",
       "    </tr>\n",
       "    <tr>\n",
       "      <th>1</th>\n",
       "      <td>1</td>\n",
       "      <td>-34.039832</td>\n",
       "      <td>24.930703</td>\n",
       "      <td>-7.485562</td>\n",
       "      <td>40.737762</td>\n",
       "      <td>21.400170</td>\n",
       "      <td>15.280596</td>\n",
       "      <td>4.467203</td>\n",
       "      <td>-19.296032</td>\n",
       "      <td>-0.433598</td>\n",
       "      <td>...</td>\n",
       "      <td>-0.000419</td>\n",
       "      <td>0.003369</td>\n",
       "      <td>-0.000641</td>\n",
       "      <td>-0.001035</td>\n",
       "      <td>0.012597</td>\n",
       "      <td>0.004377</td>\n",
       "      <td>0.004023</td>\n",
       "      <td>0.003356</td>\n",
       "      <td>25005</td>\n",
       "      <td>-10.161019</td>\n",
       "    </tr>\n",
       "    <tr>\n",
       "      <th>2</th>\n",
       "      <td>2</td>\n",
       "      <td>-58.794258</td>\n",
       "      <td>-49.823448</td>\n",
       "      <td>-35.062080</td>\n",
       "      <td>1.698937</td>\n",
       "      <td>-18.012227</td>\n",
       "      <td>12.523468</td>\n",
       "      <td>9.210336</td>\n",
       "      <td>7.488163</td>\n",
       "      <td>11.392693</td>\n",
       "      <td>...</td>\n",
       "      <td>-0.003377</td>\n",
       "      <td>-0.003500</td>\n",
       "      <td>0.002734</td>\n",
       "      <td>-0.001017</td>\n",
       "      <td>0.004774</td>\n",
       "      <td>0.012796</td>\n",
       "      <td>0.022270</td>\n",
       "      <td>0.008051</td>\n",
       "      <td>25006</td>\n",
       "      <td>-9.376619</td>\n",
       "    </tr>\n",
       "    <tr>\n",
       "      <th>3</th>\n",
       "      <td>3</td>\n",
       "      <td>-38.508716</td>\n",
       "      <td>19.211767</td>\n",
       "      <td>-4.858507</td>\n",
       "      <td>10.484105</td>\n",
       "      <td>16.622411</td>\n",
       "      <td>-22.131178</td>\n",
       "      <td>-14.876963</td>\n",
       "      <td>-5.516521</td>\n",
       "      <td>13.793978</td>\n",
       "      <td>...</td>\n",
       "      <td>-0.001423</td>\n",
       "      <td>-0.000576</td>\n",
       "      <td>0.011144</td>\n",
       "      <td>-0.007253</td>\n",
       "      <td>-0.006700</td>\n",
       "      <td>-0.007940</td>\n",
       "      <td>0.022492</td>\n",
       "      <td>-0.007016</td>\n",
       "      <td>25009</td>\n",
       "      <td>-13.776438</td>\n",
       "    </tr>\n",
       "    <tr>\n",
       "      <th>4</th>\n",
       "      <td>4</td>\n",
       "      <td>-45.432604</td>\n",
       "      <td>-23.951574</td>\n",
       "      <td>-55.340413</td>\n",
       "      <td>-7.879883</td>\n",
       "      <td>-16.304009</td>\n",
       "      <td>13.340896</td>\n",
       "      <td>11.326496</td>\n",
       "      <td>6.784151</td>\n",
       "      <td>11.208725</td>\n",
       "      <td>...</td>\n",
       "      <td>0.008307</td>\n",
       "      <td>-0.003005</td>\n",
       "      <td>0.000816</td>\n",
       "      <td>-0.000938</td>\n",
       "      <td>0.001135</td>\n",
       "      <td>-0.005256</td>\n",
       "      <td>0.001042</td>\n",
       "      <td>0.002651</td>\n",
       "      <td>25011</td>\n",
       "      <td>-8.537140</td>\n",
       "    </tr>\n",
       "  </tbody>\n",
       "</table>\n",
       "<p>5 rows × 303 columns</p>\n",
       "</div>"
      ],
      "text/plain": [
       "   Unnamed: 0          0          1          2          3          4  \\\n",
       "0           0 -54.825075  -0.835719  45.240515 -22.585658   1.450320   \n",
       "1           1 -34.039832  24.930703  -7.485562  40.737762  21.400170   \n",
       "2           2 -58.794258 -49.823448 -35.062080   1.698937 -18.012227   \n",
       "3           3 -38.508716  19.211767  -4.858507  10.484105  16.622411   \n",
       "4           4 -45.432604 -23.951574 -55.340413  -7.879883 -16.304009   \n",
       "\n",
       "           5          6          7          8  ...       292       293  \\\n",
       "0 -16.223986  12.376342  13.424011  -4.923189  ... -0.023466 -0.066633   \n",
       "1  15.280596   4.467203 -19.296032  -0.433598  ... -0.000419  0.003369   \n",
       "2  12.523468   9.210336   7.488163  11.392693  ... -0.003377 -0.003500   \n",
       "3 -22.131178 -14.876963  -5.516521  13.793978  ... -0.001423 -0.000576   \n",
       "4  13.340896  11.326496   6.784151  11.208725  ...  0.008307 -0.003005   \n",
       "\n",
       "        294       295       296       297       298       299  pubchem_id  \\\n",
       "0  0.030779 -0.036064 -0.008572  0.011805 -0.036215  0.052180       25004   \n",
       "1 -0.000641 -0.001035  0.012597  0.004377  0.004023  0.003356       25005   \n",
       "2  0.002734 -0.001017  0.004774  0.012796  0.022270  0.008051       25006   \n",
       "3  0.011144 -0.007253 -0.006700 -0.007940  0.022492 -0.007016       25009   \n",
       "4  0.000816 -0.000938  0.001135 -0.005256  0.001042  0.002651       25011   \n",
       "\n",
       "         Eat  \n",
       "0 -19.013763  \n",
       "1 -10.161019  \n",
       "2  -9.376619  \n",
       "3 -13.776438  \n",
       "4  -8.537140  \n",
       "\n",
       "[5 rows x 303 columns]"
      ]
     },
     "execution_count": 23,
     "metadata": {},
     "output_type": "execute_result"
    }
   ],
   "source": [
    "df = pd.read_csv(\"physics_data.csv\")\n",
    "df.head()"
   ]
  },
  {
   "cell_type": "markdown",
   "metadata": {},
   "source": [
    "Первым делом, посмотрим, есть ли пропуски в данных и как они распределены. Удобно для этого построить цветовую карту таблицы с помощью seaborn"
   ]
  },
  {
   "cell_type": "code",
   "execution_count": 24,
   "metadata": {
    "scrolled": true
   },
   "outputs": [
    {
     "data": {
      "text/plain": [
       "<AxesSubplot:>"
      ]
     },
     "execution_count": 24,
     "metadata": {},
     "output_type": "execute_result"
    },
    {
     "data": {
      "image/png": "[encoded data removed]",
      "text/plain": [
       "<Figure size 432x288 with 2 Axes>"
      ]
     },
     "metadata": {},
     "output_type": "display_data"
    }
   ],
   "source": [
    "cols = df.columns[:30]\n",
    "# определяем цвета \n",
    "# желтый - пропущенные данные, синий - не пропущенные\n",
    "colours = ['#000099', '#ffff00'] \n",
    "\n",
    "sns.heatmap(df.isnull(), cmap=sns.color_palette(colours))"
   ]
  },
  {
   "cell_type": "markdown",
   "metadata": {},
   "source": [
    "Отлично, пропусков нет. Теперь выберем интереующие нас признаки (все, кроме номера молекулы, то есть нулевого и 300-го индексов)."
   ]
  },
  {
   "cell_type": "code",
   "execution_count": 25,
   "metadata": {
    "scrolled": false
   },
   "outputs": [
    {
     "name": "stdout",
     "output_type": "stream",
     "text": [
      "500\n",
      "(500, 300)\n"
     ]
    }
   ],
   "source": [
    "y = df['Eat'].values\n",
    "X = df.iloc[:, 1:300].values\n",
    "data = np.concatenate( (X, np.reshape(y, (np.size(y), 1) ) ), axis = 1)\n",
    "print(np.size(np.transpose(X)[0]))\n",
    "print(np.shape(data))"
   ]
  },
  {
   "cell_type": "markdown",
   "metadata": {},
   "source": [
    "Проверим также, есть ли неинформативные признаки. Например, их можно определить как признаки, 95% которых содержат одинаковые значения."
   ]
  },
  {
   "cell_type": "code",
   "execution_count": 26,
   "metadata": {},
   "outputs": [],
   "source": [
    "num_rows = len(df.index)\n",
    "low_information_cols = [] #\n",
    "\n",
    "for col in df.columns:\n",
    "    cnts = df[col].value_counts(dropna=False)\n",
    "    top_pct = (cnts/num_rows).iloc[0]\n",
    "    \n",
    "    if top_pct > 0.95:\n",
    "        low_information_cols.append(col)\n",
    "        print('{0}: {1:.5f}%'.format(col, top_pct*100))\n",
    "        print(cnts)\n",
    "        print()"
   ]
  },
  {
   "cell_type": "code",
   "execution_count": 27,
   "metadata": {},
   "outputs": [
    {
     "name": "stdout",
     "output_type": "stream",
     "text": [
      "[]\n"
     ]
    }
   ],
   "source": [
    "print(low_information_cols)"
   ]
  },
  {
   "cell_type": "markdown",
   "metadata": {},
   "source": [
    "Как видим, таких нет. Отлично, переходим к выбросам."
   ]
  },
  {
   "cell_type": "markdown",
   "metadata": {},
   "source": [
    "Теперь отбрасываем выбросы. Идея в том, чтобы по каждому из параметров посчитать дисперсии, и вне диапазона в $3\\sigma$ отбросить нафиг точки. Хотя, еслит по каждому из признаков отбрасывать независимо, будет беда, ибо получим разные количества на выходе. Значит, нужно бы считать общую дисперсию и сравнивать 2-норму. И, видимо, чтобы не было проблемов, признаки как раз стандартизируем.\n",
    "\n",
    "Правда, лучше не 2-норму, а инф-норму, то есть по квадратику выбирать, это естественнее: каждый параметр независимо рассматривать. И в случае больших размерностей они там что-то по типу в $\\sqrt{dim}$ раз отличаются, так что возьмем лучше оценку построже."
   ]
  },
  {
   "cell_type": "code",
   "execution_count": 28,
   "metadata": {},
   "outputs": [
    {
     "name": "stdout",
     "output_type": "stream",
     "text": [
      "Размеры таблицы:  299 500\n",
      "299 299\n"
     ]
    }
   ],
   "source": [
    "# m - число признаков\n",
    "N, m = np.shape(X)\n",
    "# N - число строк\n",
    "print(\"Размеры таблицы: \", m, N)\n",
    "\n",
    "# смещенные оценки, пофиг, их можно не смещать, потому что число много больше 1\n",
    "dispersions = np.std(X, axis = 0)\n",
    "# лучше использовать медианы, а не средние, потому что на них выбросы меньше влияли\n",
    "medians = np.median(X, axis = 0)\n",
    "print(np.size(dispersions), np.size(medians))"
   ]
  },
  {
   "cell_type": "code",
   "execution_count": 29,
   "metadata": {},
   "outputs": [],
   "source": [
    "# выберем через select нужные элементы\n",
    "\n",
    "# пробежимся по строкам, и те, у которых хотя бы по одному параметру есть отклонение \n",
    "# больше, чем полторы сигмы от медианы - нахуй. Ну то есть, индексы этих строк запишем в список\n",
    "# далее уберем там повторы и оставим только те строки, индексов которых в этом списке нет.\n",
    "\n",
    "indices = []\n",
    "\n",
    "for i in range(m):\n",
    "    # главное - не спутать столбцы со строками\n",
    "    x = np.transpose(X)[i]\n",
    "    # выбрали i-ю колонку\n",
    "    conds = [ np.abs(x - medians[i]) > 3 * dispersions[i] ]\n",
    "    # print(conds)\n",
    "    # print(np.transpose( np.argwhere(conds))[1])\n",
    "    indices += np.transpose(np.argwhere(conds))[1].tolist()"
   ]
  },
  {
   "cell_type": "code",
   "execution_count": 30,
   "metadata": {},
   "outputs": [
    {
     "name": "stdout",
     "output_type": "stream",
     "text": [
      "295\n"
     ]
    }
   ],
   "source": [
    "# удаляем все повторяющиеся элементы\n",
    "indices = list(set(indices))\n",
    "print(len(indices))"
   ]
  },
  {
   "cell_type": "markdown",
   "metadata": {},
   "source": [
    "ага, получаем облом, потому что мы эдак, походу, вообще все удалили. Ну или почти все, если побольше сигм добавить..\n",
    "\n",
    "Хотя, если прям 3 сигмы поставить, то норм будет, еще целых 300 точек останется. И это мы еще на целевой параметр не смотрели!\n",
    "\n",
    "Но для разнообразия посмотрим также, что будет, если по 2-норме выкидывать. Ну и чтобы не было проблем с доминированием одних признаков над другими, отнормируем выборку. теперь-то мы разные дисперсии складывать будем!"
   ]
  },
  {
   "cell_type": "code",
   "execution_count": 31,
   "metadata": {
    "scrolled": true
   },
   "outputs": [
    {
     "name": "stdout",
     "output_type": "stream",
     "text": [
      "500\n",
      "[205 289]\n"
     ]
    }
   ],
   "source": [
    "scaler = StandardScaler()\n",
    "# нормируем всю выборку, включая будущую тестовую, так как отбрасываем выбросы. \n",
    "# когда будем делать дерево, отдельно отнормируем тренировочную\n",
    "scaler.fit(data)\n",
    "data = scaler.transform(data)\n",
    "\n",
    "#scaler_y = StandardScaler()\n",
    "#print(y)\n",
    "#scaler_y.fit(y)\n",
    "#y_std = scaler_y.transform(y)\n",
    "\n",
    "# после нормировки среднее - 0, а дисперсия - 1\n",
    "cond = [np.linalg.norm(data, axis = 1) > 3 * np.sqrt(m + 1)]\n",
    "print(np.size(cond))\n",
    "indices = np.transpose(np.argwhere(cond))[1]\n",
    "print(indices)"
   ]
  },
  {
   "cell_type": "markdown",
   "metadata": {},
   "source": [
    "Выкидываем выбросы, согласно найденному массиву индексов:"
   ]
  },
  {
   "cell_type": "code",
   "execution_count": 32,
   "metadata": {},
   "outputs": [],
   "source": [
    "X = np.delete(X, indices, axis = 0)\n",
    "y = np.delete(y, indices)"
   ]
  },
  {
   "cell_type": "markdown",
   "metadata": {},
   "source": [
    "Как видим, теперь выбросов сильно поменьше. Так что, чтобы не выкидывать данные почем зря, попользуемся 2-нормой. Кстати, нормировка достаточно сильно уменьшила число выбросов. И мы используем объединенный массив из аргументов и целевого параметра, чтобы и по оси ординат выбросы отлавливать.\n",
    "\n",
    "Выбросы выкинуть нужно, потому что, как мы помним, решающие деревья к ним очень чувствительны."
   ]
  },
  {
   "cell_type": "markdown",
   "metadata": {},
   "source": [
    "Обучите решающее дерево глубины 3 и визуализируйте его. \n",
    "\n",
    "*Рекомендуется сделать скриншот визуализации и прислать его в бот вместе с ноутбуком.*"
   ]
  },
  {
   "cell_type": "code",
   "execution_count": 33,
   "metadata": {},
   "outputs": [],
   "source": [
    "# дробим выборку на обучающую, валидационную и тестовую в отношении 6:2:2\n",
    "X_train, X_test, y_train, y_test = train_test_split(X, y, test_size = 0.2, random_state = 69)\n",
    "X_train, X_val, y_train, y_val = train_test_split(X_train, y_train, test_size=0.2, random_state = 34)"
   ]
  },
  {
   "cell_type": "markdown",
   "metadata": {},
   "source": [
    "Поскольку наш целевой параметр - энергия - не дискретный, а непрерывный, то вместо классификатора используем регрессор. Интерфейс тот же."
   ]
  },
  {
   "cell_type": "code",
   "execution_count": 34,
   "metadata": {
    "scrolled": true
   },
   "outputs": [
    {
     "data": {
      "text/plain": [
       "DecisionTreeRegressor(max_depth=3, random_state=37)"
      ]
     },
     "execution_count": 34,
     "metadata": {},
     "output_type": "execute_result"
    }
   ],
   "source": [
    "model = DecisionTreeRegressor(random_state = 37, max_depth = 3)\n",
    "model.fit(X_train, y_train)"
   ]
  },
  {
   "cell_type": "markdown",
   "metadata": {},
   "source": [
    "Подберите оптимальное значение максимальной глубины дерева. Для этого обучите решающие деревья с выставленным значением соответствующего гиперпараметра и посчитайте ошибку предсказаний каждого из них на валидационной выборке. Постройте соответствующий график."
   ]
  },
  {
   "cell_type": "markdown",
   "metadata": {},
   "source": [
    "Ошибку будем считать через 2-норму разности (MSE). Или accuracy-метрику. Лучше и то, и то, чтобы сравнить со случ лесом. А нет! не получится accuracy, так как целевой параметр непрерывный. Ну ладно, MSE так MSE."
   ]
  },
  {
   "cell_type": "code",
   "execution_count": 35,
   "metadata": {},
   "outputs": [],
   "source": [
    "max_depth = 50\n",
    "\n",
    "mse = np.empty(max_depth)\n",
    "\n",
    "for i in range(1, max_depth+1):\n",
    "    # подбираем параметры на валидационной части выборки\n",
    "    model = DecisionTreeRegressor(random_state = 37, max_depth = i)\n",
    "    model.fit(X_train, y_train)\n",
    "    pred_val = model.predict(X_val)\n",
    "    mse[i - 1] = mean_squared_error(y_val, pred_val)\n"
   ]
  },
  {
   "cell_type": "code",
   "execution_count": 36,
   "metadata": {
    "scrolled": true
   },
   "outputs": [
    {
     "data": {
      "image/png": "[encoded data removed]",
      "text/plain": [
       "<Figure size 720x576 with 1 Axes>"
      ]
     },
     "metadata": {},
     "output_type": "display_data"
    }
   ],
   "source": [
    "plt.figure(figsize = (10,8))\n",
    "\n",
    "plt.plot(range(1, max_depth+1), mse)\n",
    "\n",
    "plt.xlabel(\"Максимальная глубина дерева\")\n",
    "plt.ylabel(\"MSE на валидационной части выборки\")\n",
    "\n",
    "plt.xlim( (0,10) )\n",
    "\n",
    "plt.show()"
   ]
  },
  {
   "cell_type": "markdown",
   "metadata": {},
   "source": [
    "Короче, примерно с 14 модель прям видно как переобучается и просто фитирует все. Так что (неожиданно), как и в условии , берем глубину равной 3."
   ]
  },
  {
   "cell_type": "markdown",
   "metadata": {},
   "source": [
    "Аналогичным образом подберите минимальное число объектов в листе, зафиксировав при этом подобранное значение максимальной глубины."
   ]
  },
  {
   "cell_type": "code",
   "execution_count": 37,
   "metadata": {},
   "outputs": [],
   "source": [
    "# аналогично, подбираем параметр min_samples_leaf\n",
    "depth = 3\n",
    "max_min_leaf = 50\n",
    "mse = np.empty(max_depth)\n",
    "\n",
    "for i in range(1, max_min_leaf+1):\n",
    "    # подбираем параметры на валидационной части выборки\n",
    "    model = DecisionTreeRegressor(random_state = 37, max_depth = 3, min_samples_leaf = i)\n",
    "    model.fit(X_train, y_train)\n",
    "    pred_val = model.predict(X_val)\n",
    "    mse[i - 1] = mean_squared_error(y_val, pred_val)\n"
   ]
  },
  {
   "cell_type": "code",
   "execution_count": 38,
   "metadata": {
    "scrolled": true
   },
   "outputs": [
    {
     "data": {
      "image/png": "[encoded data removed]",
      "text/plain": [
       "<Figure size 720x576 with 1 Axes>"
      ]
     },
     "metadata": {},
     "output_type": "display_data"
    }
   ],
   "source": [
    "plt.figure(figsize = (10,8))\n",
    "\n",
    "plt.plot(range(1, max_min_leaf+1), mse)\n",
    "\n",
    "\n",
    "plt.xlabel(\"Минимальное число объектов в листе\")\n",
    "plt.ylabel(\"MSE на валидационной части выборки\")\n",
    "\n",
    "#plt.xlim( (0,10) )\n",
    "\n",
    "plt.show()"
   ]
  },
  {
   "cell_type": "markdown",
   "metadata": {},
   "source": [
    "Короче, норм число объектов - тоже 3. оч интересно, реально магическое число"
   ]
  },
  {
   "cell_type": "markdown",
   "metadata": {},
   "source": [
    "Визуализируйте дерево при оптимальных гиперпараметрах и посчитайте его ошибку на тестовой части выборки."
   ]
  },
  {
   "cell_type": "code",
   "execution_count": 39,
   "metadata": {},
   "outputs": [
    {
     "name": "stdout",
     "output_type": "stream",
     "text": [
      "MSE для тестовой части выборки:  2.638698906611854\n"
     ]
    }
   ],
   "source": [
    "model = DecisionTreeRegressor(random_state = 37, max_depth = 4, min_samples_leaf = 3)\n",
    "model.fit(X_train, y_train)\n",
    "pred_test = model.predict(X_test)\n",
    "print(\"MSE для тестовой части выборки: \", mean_squared_error(pred_test, y_test))"
   ]
  },
  {
   "cell_type": "markdown",
   "metadata": {},
   "source": [
    "Получаем ошибку, сопоставимую с ошибкой на валидационной выборке. Радуемся? Наверное.."
   ]
  },
  {
   "cell_type": "markdown",
   "metadata": {},
   "source": [
    "Решающее дерево позволяет оценить *важность признаков* &mdash; некоторая величина, зависящая от того\n",
    "* насколько часто тот или иной признак использовался при разбиении листа, \n",
    "* и насколько сильно при этом изменился критерий информативности.\n",
    "\n",
    "У обученной модели значения важности признаков лежат в поле `feature_importances_`. Визуализируйте их с помощью `seaborn.barplot`."
   ]
  },
  {
   "cell_type": "code",
   "execution_count": 40,
   "metadata": {},
   "outputs": [
    {
     "name": "stdout",
     "output_type": "stream",
     "text": [
      "[ 0  2  4 20 21 24 27 34 35 43 57] [0.03565208 0.46917933 0.33229556 0.0504469  0.02864432 0.02700431\n",
      " 0.0136488  0.01097541 0.01030313 0.01332819 0.008522  ] [0.03565208 0.         0.46917933 0.         0.33229556 0.\n",
      " 0.         0.         0.         0.         0.         0.\n",
      " 0.         0.         0.         0.         0.         0.\n",
      " 0.         0.         0.0504469  0.02864432 0.         0.\n",
      " 0.02700431 0.         0.         0.0136488  0.         0.\n",
      " 0.         0.         0.         0.         0.01097541 0.01030313\n",
      " 0.         0.         0.         0.         0.         0.\n",
      " 0.         0.01332819 0.         0.         0.         0.\n",
      " 0.         0.         0.         0.         0.         0.\n",
      " 0.         0.         0.         0.008522   0.         0.\n",
      " 0.         0.         0.         0.         0.         0.\n",
      " 0.         0.         0.         0.         0.         0.\n",
      " 0.         0.         0.         0.         0.         0.\n",
      " 0.         0.         0.         0.         0.         0.\n",
      " 0.         0.         0.         0.         0.         0.\n",
      " 0.         0.         0.         0.         0.         0.\n",
      " 0.         0.         0.         0.         0.         0.\n",
      " 0.         0.         0.         0.         0.         0.\n",
      " 0.         0.         0.         0.         0.         0.\n",
      " 0.         0.         0.         0.         0.         0.\n",
      " 0.         0.         0.         0.         0.         0.\n",
      " 0.         0.         0.         0.         0.         0.\n",
      " 0.         0.         0.         0.         0.         0.\n",
      " 0.         0.         0.         0.         0.         0.\n",
      " 0.         0.         0.         0.         0.         0.\n",
      " 0.         0.         0.         0.         0.         0.\n",
      " 0.         0.         0.         0.         0.         0.\n",
      " 0.         0.         0.         0.         0.         0.\n",
      " 0.         0.         0.         0.         0.         0.\n",
      " 0.         0.         0.         0.         0.         0.\n",
      " 0.         0.         0.         0.         0.         0.\n",
      " 0.         0.         0.         0.         0.         0.\n",
      " 0.         0.         0.         0.         0.         0.\n",
      " 0.         0.         0.         0.         0.         0.\n",
      " 0.         0.         0.         0.         0.         0.\n",
      " 0.         0.         0.         0.         0.         0.\n",
      " 0.         0.         0.         0.         0.         0.\n",
      " 0.         0.         0.         0.         0.         0.\n",
      " 0.         0.         0.         0.         0.         0.\n",
      " 0.         0.         0.         0.         0.         0.\n",
      " 0.         0.         0.         0.         0.         0.\n",
      " 0.         0.         0.         0.         0.         0.\n",
      " 0.         0.         0.         0.         0.         0.\n",
      " 0.         0.         0.         0.         0.         0.\n",
      " 0.         0.         0.         0.         0.         0.\n",
      " 0.         0.         0.         0.         0.         0.\n",
      " 0.         0.         0.         0.         0.         0.\n",
      " 0.         0.         0.         0.         0.         0.\n",
      " 0.         0.         0.         0.         0.         0.\n",
      " 0.         0.         0.         0.         0.        ]\n"
     ]
    }
   ],
   "source": [
    "imps = model.feature_importances_\n",
    "indices = np.transpose(np.argwhere([imps > 0]))[1]\n",
    "nonzero_imps = imps[indices]\n",
    "print(indices, nonzero_imps, imps)"
   ]
  },
  {
   "cell_type": "markdown",
   "metadata": {},
   "source": [
    "Видим,что у почти всех признаков важности нулевые. выбираем те, что не 0 и строим гистограммку, как нас и просят "
   ]
  },
  {
   "cell_type": "code",
   "execution_count": 41,
   "metadata": {},
   "outputs": [
    {
     "data": {
      "image/png": "[encoded data removed]",
      "text/plain": [
       "<Figure size 720x576 with 1 Axes>"
      ]
     },
     "metadata": {},
     "output_type": "display_data"
    }
   ],
   "source": [
    "plt.figure(figsize = (10,8) )\n",
    "\n",
    "plt.bar( list(df.columns.values[1:][indices]), nonzero_imps)\n",
    "\n",
    "plt.show()"
   ]
  },
  {
   "cell_type": "markdown",
   "metadata": {},
   "source": [
    "Сделайте выводы."
   ]
  },
  {
   "cell_type": "markdown",
   "metadata": {},
   "source": [
    "**Вывод:** По факту, есть всего 2 самых главных признака, под индексами 2 и 4. Дальше идут 4 сильно менее значимых, и остальными можно пренебречь. В принципе, это похоже на физику: есть простая формула в главном порядке, далее идут более сложные поправки первого порядка, но все еще простые, и так далее, с последовательным усложнением."
   ]
  },
  {
   "cell_type": "markdown",
   "metadata": {},
   "source": [
    "## Задача 4\n",
    "\n",
    "Для данных из задачи 3 обучите случайный лес на 500 деревьев."
   ]
  },
  {
   "cell_type": "code",
   "execution_count": 43,
   "metadata": {},
   "outputs": [
    {
     "data": {
      "text/plain": [
       "RandomForestRegressor(n_estimators=500)"
      ]
     },
     "execution_count": 43,
     "metadata": {},
     "output_type": "execute_result"
    }
   ],
   "source": [
    "n_estimators = 500\n",
    "model = RandomForestRegressor(n_estimators=n_estimators)\n",
    "model.fit(X_train, y_train)"
   ]
  },
  {
   "cell_type": "markdown",
   "metadata": {},
   "source": [
    "Постройте график зависимости ошибки модели в зависимости от количества деревьев для обучающей и валидационной выборок.\n",
    "\n",
    "*Замечание.* Не нужно заново обучать лес каждый раз. Используйте у *обученной* модели поле `estimators_`, это список из объектов класса `DecisionTreeRegressor`. Обратите внимание, что это приватное поле объекта, и менять его очень плохо, за такое баллы будут снижаться."
   ]
  },
  {
   "cell_type": "code",
   "execution_count": 47,
   "metadata": {},
   "outputs": [],
   "source": [
    "errors = np.array([mean_squared_error(tree.predict(X_test), y_test) for tree in model.estimators_])\n",
    "\n",
    "mean_errors = np.cumsum(errors) / np.arange(1, n_estimators + 1, 1)"
   ]
  },
  {
   "cell_type": "code",
   "execution_count": 48,
   "metadata": {
    "scrolled": true
   },
   "outputs": [
    {
     "name": "stdout",
     "output_type": "stream",
     "text": [
      "[3.606073   4.53750899 4.01238888 3.97316868 3.90751222 3.84114418\n",
      " 4.00147599 3.87396573 3.73919977 3.65215781 3.55299648 3.55938608\n",
      " 3.4823638  3.42742371 3.55125855 3.51784456 3.48405136 3.44392373\n",
      " 3.48840674 3.43575007 3.42804632 3.47989479 3.47766637 3.4285598\n",
      " 3.40163275 3.49342824 3.46258733 3.49655576 3.50227088 3.47699519\n",
      " 3.46055759 3.44262311 3.38872578 3.39136915 3.38864403 3.36618961\n",
      " 3.3843287  3.37357903 3.37092038 3.48646618 3.48362618 3.47399412\n",
      " 3.46580775 3.45553099 3.43401892 3.46436931 3.49907776 3.48782916\n",
      " 3.48411477 3.48606089 3.49008733 3.47170863 3.4448096  3.47446479\n",
      " 3.45360942 3.44041411 3.43490879 3.4304873  3.41845524 3.43680383\n",
      " 3.42871159 3.43389334 3.41957371 3.41061956 3.40525491 3.40304028\n",
      " 3.42516743 3.44877258 3.46976005 3.46620302 3.45259743 3.46462329\n",
      " 3.47128891 3.48261531 3.49626173 3.48141067 3.46084468 3.484104\n",
      " 3.47233435 3.47459812 3.47954281 3.47384798 3.46721468 3.4799931\n",
      " 3.48594819 3.47002822 3.45229852 3.4731687  3.46910513 3.48910736\n",
      " 3.48503777 3.48765878 3.48742159 3.49035804 3.49601978 3.49012612\n",
      " 3.50765308 3.51911318 3.52870961 3.52218706 3.51498489 3.5167055\n",
      " 3.50637891 3.491438   3.48220488 3.47419743 3.46898476 3.45881974\n",
      " 3.47686594 3.48240883 3.49307764 3.48367586 3.47585684 3.47628231\n",
      " 3.4783135  3.49536661 3.49245778 3.511383   3.50639233 3.50503077\n",
      " 3.50637751 3.5053343  3.49764528 3.52484058 3.51712158 3.51320835\n",
      " 3.52472548 3.52031136 3.52617264 3.52262514 3.52012197 3.52048927\n",
      " 3.53368012 3.52200605 3.52152855 3.51267096 3.51210078 3.50692127\n",
      " 3.51672892 3.5197219  3.51558254 3.50991601 3.50639856 3.50464863\n",
      " 3.49818694 3.50044973 3.49994877 3.5119346  3.50656809 3.50539601\n",
      " 3.50076708 3.49486038 3.49833498 3.49755125 3.48712246 3.49679417\n",
      " 3.49850558 3.4908399  3.48767367 3.48030879 3.47219678 3.48261289\n",
      " 3.48172772 3.48878891 3.47832305 3.47582777 3.47284379 3.47062274\n",
      " 3.47383168 3.47179721 3.46462902 3.46489298 3.45890717 3.4557975\n",
      " 3.44669136 3.44984955 3.44466552 3.45091342 3.45037129 3.44078174\n",
      " 3.44216724 3.44326031 3.44363985 3.458225   3.46175585 3.4600083\n",
      " 3.4577755  3.46165129 3.4674896  3.4662054  3.46144727 3.46848326\n",
      " 3.47027354 3.47134347 3.47540405 3.47068585 3.4742166  3.46942883\n",
      " 3.46545412 3.47418781 3.47196555 3.47397951 3.46820696 3.46845769\n",
      " 3.46184874 3.45974756 3.46053836 3.45804444 3.45513628 3.45775713\n",
      " 3.46225246 3.45713167 3.45706797 3.45525268 3.45007523 3.44612699\n",
      " 3.44372928 3.45132752 3.44976016 3.44865919 3.44972278 3.44609077\n",
      " 3.44541789 3.44621711 3.44219141 3.44245982 3.44110272 3.44181572\n",
      " 3.44185224 3.43723222 3.44988224 3.44677321 3.44316013 3.43944636\n",
      " 3.43628759 3.43674669 3.43636101 3.43703745 3.43479161 3.43645698\n",
      " 3.44613753 3.44484864 3.44298414 3.4442036  3.45227494 3.45384085\n",
      " 3.47005655 3.47166515 3.46975951 3.47310299 3.47278861 3.47142364\n",
      " 3.46583464 3.46481116 3.46640755 3.46548688 3.46291167 3.47077556\n",
      " 3.46975756 3.46913452 3.47089948 3.47439391 3.47429093 3.47053307\n",
      " 3.47141107 3.47409711 3.48275879 3.47679836 3.47379258 3.47901117\n",
      " 3.47753098 3.47484001 3.47403386 3.47635487 3.47470113 3.47645681\n",
      " 3.47388066 3.47305107 3.47909595 3.4801522  3.47668908 3.47772573\n",
      " 3.47680807 3.47953214 3.48024597 3.48102749 3.47963999 3.47681374\n",
      " 3.47516058 3.47070764 3.47366857 3.47396155 3.47107633 3.47259315\n",
      " 3.46780375 3.46331394 3.46596646 3.46463771 3.4644837  3.46259793\n",
      " 3.45925127 3.45989727 3.45800018 3.45704542 3.46565052 3.46314128\n",
      " 3.4644694  3.4602261  3.45687823 3.45682563 3.45743026 3.45612648\n",
      " 3.45408484 3.45006367 3.44929284 3.45221609 3.45251644 3.44965496\n",
      " 3.45769992 3.45625812 3.4602111  3.46209905 3.46125176 3.46231024\n",
      " 3.4589835  3.45464611 3.45202036 3.45408564 3.46231596 3.46718022\n",
      " 3.46860015 3.46634689 3.46429705 3.46833801 3.47159156 3.46975729\n",
      " 3.46797539 3.46671142 3.4694649  3.46909728 3.46659504 3.46351173\n",
      " 3.46141189 3.46193361 3.45695744 3.45797516 3.45824793 3.45538122\n",
      " 3.45567629 3.45920772 3.45822154 3.45348015 3.45378057 3.46333815\n",
      " 3.46080518 3.45867475 3.4614474  3.4563992  3.45570563 3.45887103\n",
      " 3.45658747 3.45385932 3.45421095 3.45461861 3.45158525 3.45285302\n",
      " 3.45444832 3.45208743 3.45335701 3.45463775 3.45176302 3.44858876\n",
      " 3.44707642 3.44462064 3.44433316 3.4564406  3.45625018 3.4545451\n",
      " 3.45432638 3.45543624 3.45758169 3.45633934 3.45591882 3.45718228\n",
      " 3.45859629 3.46558425 3.46570521 3.46447987 3.46579622 3.46521731\n",
      " 3.46576312 3.47132249 3.47173787 3.47038192 3.47001757 3.47256123\n",
      " 3.46993407 3.47044436 3.47049012 3.47801802 3.48087447 3.47927865\n",
      " 3.47739136 3.47708216 3.47457372 3.47766825 3.47339883 3.47159512\n",
      " 3.46973483 3.47052105 3.47155364 3.4748162  3.47548052 3.47442531\n",
      " 3.47510219 3.476784   3.48154916 3.48114166 3.48306262 3.48085522\n",
      " 3.47926223 3.4793555  3.47575545 3.47493261 3.47759346 3.47553309\n",
      " 3.47491799 3.47358735 3.47228795 3.47235293 3.4674392  3.47014056\n",
      " 3.47412584 3.47811067 3.47777293 3.4773081  3.47729846 3.47883406\n",
      " 3.4760989  3.47672379 3.47641596 3.47425903 3.47746218 3.47653022\n",
      " 3.47605933 3.47480638 3.47473389 3.47488502 3.47529798 3.478368\n",
      " 3.47764902 3.48017343 3.47758609 3.47997043 3.47905555 3.47799567\n",
      " 3.47740599 3.47680391 3.47526398 3.4745616  3.47398589 3.47603257\n",
      " 3.47824657 3.4774335  3.47398633 3.47160757 3.47601755 3.47507133\n",
      " 3.47641504 3.4800231  3.47976719 3.48150133 3.48118373 3.4787362\n",
      " 3.47729668 3.47572123 3.47776432 3.47796682 3.47896412 3.47985737\n",
      " 3.48025276 3.48265759 3.48237251 3.4805268  3.48253249 3.48348389\n",
      " 3.48140238 3.48263927 3.48102076 3.47962018 3.47705887 3.47296768\n",
      " 3.47587996 3.47659978 3.47714084 3.47583243 3.47305342 3.47255786\n",
      " 3.47913859 3.47853923]\n"
     ]
    }
   ],
   "source": [
    "print(mean_errors)"
   ]
  },
  {
   "cell_type": "markdown",
   "metadata": {},
   "source": [
    "Для леса с максимальным количеством деревьев визуализируйте важность признаков, используя поле `feature_importances_`. "
   ]
  },
  {
   "cell_type": "code",
   "execution_count": 50,
   "metadata": {},
   "outputs": [
    {
     "data": {
      "image/png": "[encoded data removed]",
      "text/plain": [
       "<Figure size 720x576 with 1 Axes>"
      ]
     },
     "metadata": {},
     "output_type": "display_data"
    }
   ],
   "source": [
    "plt.figure(figsize = (10,8))\n",
    "\n",
    "plt.plot(np.arange(1, n_estimators + 1, 1), mean_errors)\n",
    "plt.title(\"График зависимости среднеквадратичной ошибки предсказания случайного леса от числа деревьев в нем\")\n",
    "\n",
    "plt.show()"
   ]
  },
  {
   "cell_type": "code",
   "execution_count": 57,
   "metadata": {
    "scrolled": false
   },
   "outputs": [
    {
     "name": "stdout",
     "output_type": "stream",
     "text": [
      "[ 0  2  3  4  5 20 25 27] [0.02128414 0.44779957 0.0130962  0.26628636 0.01690282 0.040119\n",
      " 0.01037993 0.01467128] [2.12841390e-02 2.45800981e-03 4.47799575e-01 1.30961977e-02\n",
      " 2.66286364e-01 1.69028196e-02 9.98958064e-03 6.49533144e-03\n",
      " 2.37756465e-03 4.92138310e-03 1.02727110e-03 7.09655535e-04\n",
      " 6.16129729e-04 3.73016607e-04 2.21031332e-04 1.23250068e-03\n",
      " 8.22206566e-04 1.42424802e-03 5.04053940e-04 6.47218408e-04\n",
      " 4.01189984e-02 6.18377573e-03 1.87979541e-03 4.02161728e-03\n",
      " 5.98252332e-03 1.03799304e-02 1.82640982e-03 1.46712752e-02\n",
      " 1.03337809e-03 1.82852094e-03 2.94695060e-03 3.31755067e-04\n",
      " 3.79935114e-04 6.27385067e-04 5.15498244e-03 6.44658973e-04\n",
      " 3.24261372e-04 7.86233385e-04 6.66912716e-04 1.71926682e-03\n",
      " 7.69461550e-04 2.99671745e-03 1.28800311e-03 5.14102361e-03\n",
      " 2.07543747e-03 3.87560728e-03 5.64398616e-04 5.94296552e-04\n",
      " 2.45495775e-04 3.70921517e-04 3.20402585e-04 9.90534935e-04\n",
      " 6.94205745e-04 3.35713204e-04 4.36597314e-04 1.01340771e-03\n",
      " 8.85511636e-04 9.31228291e-04 2.05801077e-04 4.51807399e-04\n",
      " 6.35449367e-04 1.75892888e-04 2.99362016e-04 1.43747186e-04\n",
      " 2.24437447e-04 1.46123984e-04 1.40239990e-03 1.94927565e-04\n",
      " 2.25380843e-04 1.75255529e-04 9.58145738e-04 2.53168574e-04\n",
      " 1.57682996e-04 1.87912774e-04 4.91565440e-04 3.35103947e-04\n",
      " 1.74440189e-04 2.05775893e-04 4.23190373e-04 1.92530154e-04\n",
      " 2.36038674e-04 2.44914305e-04 2.57727756e-04 7.24031132e-04\n",
      " 3.51489159e-04 3.01675044e-04 3.64113954e-04 1.60471002e-04\n",
      " 2.39619860e-04 2.43711042e-04 5.50039011e-04 3.68502025e-04\n",
      " 1.82291232e-04 2.37050176e-04 2.05527508e-04 2.35168882e-04\n",
      " 3.88466634e-04 2.34104522e-04 1.60085776e-04 1.80863422e-04\n",
      " 3.70895109e-04 1.82340087e-04 1.75632123e-04 1.66781322e-04\n",
      " 1.93835082e-04 1.41647543e-04 1.47538122e-04 3.29829430e-04\n",
      " 9.99786567e-05 4.02514796e-04 1.08677880e-04 9.04859521e-04\n",
      " 2.02259402e-04 3.08845845e-04 2.20510100e-04 1.32113263e-04\n",
      " 3.02140740e-04 2.24999102e-04 2.58842986e-04 1.86959627e-04\n",
      " 1.47940497e-04 6.28802485e-04 1.20274617e-04 2.11028936e-04\n",
      " 1.64653842e-04 1.51433689e-04 2.49411949e-04 2.77079198e-04\n",
      " 1.81534478e-04 2.46694819e-04 1.60277344e-04 3.84632421e-04\n",
      " 1.91895124e-04 3.24251737e-04 1.33547104e-04 2.60982912e-04\n",
      " 1.02604082e-03 3.29269141e-04 6.85456063e-04 2.91215163e-04\n",
      " 1.87061973e-04 1.20834572e-04 2.02054622e-04 4.47557775e-04\n",
      " 2.12566375e-04 3.53155473e-04 1.71655969e-04 1.29196607e-03\n",
      " 3.77902464e-04 9.53482907e-04 2.07873355e-04 9.82398788e-05\n",
      " 2.21173201e-04 1.17956573e-04 1.43036389e-04 3.66520709e-04\n",
      " 4.54798226e-04 1.74734212e-04 8.91182764e-05 1.56655704e-04\n",
      " 1.49969495e-04 1.82860824e-04 2.81098635e-04 2.50220765e-04\n",
      " 1.95985365e-04 2.28145735e-04 2.63912310e-04 2.52090216e-04\n",
      " 2.03896061e-04 4.73115828e-05 2.33544326e-04 2.16475734e-04\n",
      " 3.64235808e-04 1.64706952e-04 1.45352469e-04 1.48841183e-04\n",
      " 2.23454830e-04 5.39709384e-04 1.44022606e-04 2.56988411e-04\n",
      " 4.33543971e-04 9.15935757e-05 2.42100512e-04 2.48425613e-04\n",
      " 1.68858648e-04 2.92626271e-04 3.33847069e-04 3.88534034e-04\n",
      " 3.31433729e-04 1.51663810e-04 4.19806051e-04 1.64710416e-04\n",
      " 1.76024575e-04 1.58812173e-04 1.19106944e-03 1.39966582e-04\n",
      " 1.52483988e-04 5.37925131e-04 2.11999996e-04 2.79950699e-04\n",
      " 7.13403767e-04 2.30271670e-04 5.28431431e-04 3.47269620e-04\n",
      " 1.45146037e-04 2.60016270e-04 2.55743932e-04 3.32913360e-04\n",
      " 1.76888631e-04 3.23377823e-04 5.83119352e-04 1.43444702e-04\n",
      " 5.02165499e-04 2.34467175e-04 3.87633019e-04 1.42934243e-04\n",
      " 1.57149212e-04 1.51423439e-04 5.06684711e-04 2.15015168e-04\n",
      " 3.99055791e-04 1.64202955e-04 5.00056324e-04 2.75990474e-04\n",
      " 2.58647230e-04 3.65618730e-04 2.94815524e-04 1.71322132e-04\n",
      " 2.93153108e-04 3.17211838e-04 2.04892818e-04 1.14249832e-04\n",
      " 2.48242590e-04 2.86142813e-04 1.63521811e-04 2.66724088e-04\n",
      " 4.94659712e-04 1.43011337e-04 5.53919620e-04 3.22272961e-04\n",
      " 3.01316142e-04 1.29960102e-04 1.82610282e-04 3.15847789e-04\n",
      " 5.50066958e-04 2.99610075e-04 1.35630387e-04 4.50485960e-04\n",
      " 2.50294408e-04 2.83187267e-04 2.37227016e-04 3.14086445e-04\n",
      " 2.44957647e-04 4.87209810e-04 4.83398693e-04 2.57095714e-03\n",
      " 2.35293546e-04 2.72572231e-04 4.10065273e-04 1.11077632e-03\n",
      " 6.17486623e-04 2.21838867e-04 1.94687022e-04 5.56215690e-04\n",
      " 2.37316297e-04 2.13806161e-04 1.95273046e-04 3.41963668e-04\n",
      " 3.38647961e-04 1.82340882e-04 4.49573507e-04 2.82971954e-04\n",
      " 6.42051607e-04 2.33482132e-04 1.62461549e-04 5.50070431e-04\n",
      " 3.71336902e-04 2.66982564e-04 3.17955534e-04 3.87830934e-04\n",
      " 4.06860595e-04 5.74439004e-04 3.76765948e-04 2.79132196e-04\n",
      " 2.64273984e-04 3.04163349e-04 2.47435536e-04 1.57223124e-04\n",
      " 2.84128090e-04 3.63527216e-04 7.42277019e-04 2.18016325e-04\n",
      " 1.78921171e-04 2.31882299e-04 1.25895366e-04 8.11254136e-05\n",
      " 3.19782481e-04 2.95634699e-04 4.07471757e-04]\n"
     ]
    }
   ],
   "source": [
    "imps = model.feature_importances_\n",
    "# нужно выбирать аккуратнее теперь. поставим порог не 0, как с деревом, а 10-2, например\n",
    "indices = np.transpose(np.argwhere([imps > 1e-2]))[1]\n",
    "nonzero_imps = imps[indices]\n",
    "print(indices, nonzero_imps, imps)"
   ]
  },
  {
   "cell_type": "code",
   "execution_count": 58,
   "metadata": {},
   "outputs": [
    {
     "data": {
      "image/png": "[encoded data removed]",
      "text/plain": [
       "<Figure size 720x576 with 1 Axes>"
      ]
     },
     "metadata": {},
     "output_type": "display_data"
    }
   ],
   "source": [
    "plt.figure(figsize = (10,8) )\n",
    "\n",
    "plt.bar( list(df.columns.values[1:][indices]), nonzero_imps)\n",
    "\n",
    "plt.show()"
   ]
  },
  {
   "cell_type": "markdown",
   "metadata": {},
   "source": [
    "Сделайте выводы."
   ]
  },
  {
   "cell_type": "markdown",
   "metadata": {},
   "source": [
    "**Вывод:** Похоже на правду, конечно. Доминирующие признаки - с номерами 2,4 и 20, и их выделило как дерево, так и лес. Что же касается качества предсказания, реально почему-то так получается, что уже с 20-50 деревьев точность предсказания прям сильно повышается. Такие дела."
   ]
  },
  {
   "cell_type": "code",
   "execution_count": null,
   "metadata": {},
   "outputs": [],
   "source": []
  }
 ],
 "metadata": {
  "kernelspec": {
   "display_name": "Python 3",
   "language": "python",
   "name": "python3"
  },
  "language_info": {
   "codemirror_mode": {
    "name": "ipython",
    "version": 3
   },
   "file_extension": ".py",
   "mimetype": "text/x-python",
   "name": "python",
   "nbconvert_exporter": "python",
   "pygments_lexer": "ipython3",
   "version": "3.8.8"
  }
 },
 "nbformat": 4,
 "nbformat_minor": 2
}
